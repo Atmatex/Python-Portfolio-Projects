{
  "cells": [
    {
      "cell_type": "markdown",
      "metadata": {
        "id": "view-in-github",
        "colab_type": "text"
      },
      "source": [
        "<a href=\"https://colab.research.google.com/github/Atmatex/Python-Portfolio-Projects/blob/main/Remote_Sensing(new).ipynb\" target=\"_parent\"><img src=\"https://colab.research.google.com/assets/colab-badge.svg\" alt=\"Open In Colab\"/></a>"
      ]
    },
    {
      "cell_type": "code",
      "execution_count": 1,
      "metadata": {
        "id": "YaTVtrcF8Wec"
      },
      "outputs": [],
      "source": [
        "import pandas as pd\n",
        "import geopandas as gpd"
      ]
    },
    {
      "cell_type": "code",
      "execution_count": 2,
      "metadata": {
        "id": "GWcaRJFSWpVS"
      },
      "outputs": [],
      "source": [
        "import ee\n",
        "ee.Authenticate()\n",
        "ee.Initialize(project='ee-ephraim')\n"
      ]
    },
    {
      "cell_type": "code",
      "execution_count": 3,
      "metadata": {
        "id": "llNNBNhr8RBB"
      },
      "outputs": [],
      "source": [
        "from IPython.display import Image"
      ]
    },
    {
      "cell_type": "code",
      "execution_count": 4,
      "metadata": {
        "id": "0m0vxaAo8RVd"
      },
      "outputs": [],
      "source": [
        "lat = 39.44012\n",
        "lon = -121.833619\n",
        "\n",
        "poi = ee.Geometry.Point(lon, lat)\n",
        "\n",
        "start_date = '2018-10-01'\n",
        "\n",
        "end_date = '2019-01-31'"
      ]
    },
    {
      "cell_type": "code",
      "execution_count": 5,
      "metadata": {
        "id": "zbSxLBR4kyRa"
      },
      "outputs": [],
      "source": [
        "landsat = ee.ImageCollection('LANDSAT/LC08/C02/T1_L2')\\\n",
        "            .filterBounds(poi)\\\n",
        "            .filterDate(start_date, end_date)"
      ]
    },
    {
      "cell_type": "code",
      "execution_count": 6,
      "metadata": {
        "colab": {
          "base_uri": "https://localhost:8080/"
        },
        "id": "ogUhvcR2yp5z",
        "outputId": "d9acda91-e148-467f-ca99-9ef85ef42c9e"
      },
      "outputs": [
        {
          "output_type": "stream",
          "name": "stdout",
          "text": [
            "Total number: 8\n"
          ]
        }
      ],
      "source": [
        "#How many images was gotten\n",
        "print('Total number:', landsat.size().getInfo())\n"
      ]
    },
    {
      "cell_type": "code",
      "execution_count": 7,
      "metadata": {
        "colab": {
          "base_uri": "https://localhost:8080/"
        },
        "id": "-AXHo3gqyqNy",
        "outputId": "55075146-7073-4c11-c477-ce5e6b3d73fd"
      },
      "outputs": [
        {
          "output_type": "execute_result",
          "data": {
            "text/plain": [
              "{'type': 'Image',\n",
              " 'bands': [{'id': 'SR_B1',\n",
              "   'data_type': {'type': 'PixelType',\n",
              "    'precision': 'int',\n",
              "    'min': 0,\n",
              "    'max': 65535},\n",
              "   'dimensions': [7661, 7791],\n",
              "   'crs': 'EPSG:32610',\n",
              "   'crs_transform': [30, 0, 500385, 0, -30, 4423215]},\n",
              "  {'id': 'SR_B2',\n",
              "   'data_type': {'type': 'PixelType',\n",
              "    'precision': 'int',\n",
              "    'min': 0,\n",
              "    'max': 65535},\n",
              "   'dimensions': [7661, 7791],\n",
              "   'crs': 'EPSG:32610',\n",
              "   'crs_transform': [30, 0, 500385, 0, -30, 4423215]},\n",
              "  {'id': 'SR_B3',\n",
              "   'data_type': {'type': 'PixelType',\n",
              "    'precision': 'int',\n",
              "    'min': 0,\n",
              "    'max': 65535},\n",
              "   'dimensions': [7661, 7791],\n",
              "   'crs': 'EPSG:32610',\n",
              "   'crs_transform': [30, 0, 500385, 0, -30, 4423215]},\n",
              "  {'id': 'SR_B4',\n",
              "   'data_type': {'type': 'PixelType',\n",
              "    'precision': 'int',\n",
              "    'min': 0,\n",
              "    'max': 65535},\n",
              "   'dimensions': [7661, 7791],\n",
              "   'crs': 'EPSG:32610',\n",
              "   'crs_transform': [30, 0, 500385, 0, -30, 4423215]},\n",
              "  {'id': 'SR_B5',\n",
              "   'data_type': {'type': 'PixelType',\n",
              "    'precision': 'int',\n",
              "    'min': 0,\n",
              "    'max': 65535},\n",
              "   'dimensions': [7661, 7791],\n",
              "   'crs': 'EPSG:32610',\n",
              "   'crs_transform': [30, 0, 500385, 0, -30, 4423215]},\n",
              "  {'id': 'SR_B6',\n",
              "   'data_type': {'type': 'PixelType',\n",
              "    'precision': 'int',\n",
              "    'min': 0,\n",
              "    'max': 65535},\n",
              "   'dimensions': [7661, 7791],\n",
              "   'crs': 'EPSG:32610',\n",
              "   'crs_transform': [30, 0, 500385, 0, -30, 4423215]},\n",
              "  {'id': 'SR_B7',\n",
              "   'data_type': {'type': 'PixelType',\n",
              "    'precision': 'int',\n",
              "    'min': 0,\n",
              "    'max': 65535},\n",
              "   'dimensions': [7661, 7791],\n",
              "   'crs': 'EPSG:32610',\n",
              "   'crs_transform': [30, 0, 500385, 0, -30, 4423215]},\n",
              "  {'id': 'SR_QA_AEROSOL',\n",
              "   'data_type': {'type': 'PixelType',\n",
              "    'precision': 'int',\n",
              "    'min': 0,\n",
              "    'max': 255},\n",
              "   'dimensions': [7661, 7791],\n",
              "   'crs': 'EPSG:32610',\n",
              "   'crs_transform': [30, 0, 500385, 0, -30, 4423215]},\n",
              "  {'id': 'ST_B10',\n",
              "   'data_type': {'type': 'PixelType',\n",
              "    'precision': 'int',\n",
              "    'min': 0,\n",
              "    'max': 65535},\n",
              "   'dimensions': [7661, 7791],\n",
              "   'crs': 'EPSG:32610',\n",
              "   'crs_transform': [30, 0, 500385, 0, -30, 4423215]},\n",
              "  {'id': 'ST_ATRAN',\n",
              "   'data_type': {'type': 'PixelType',\n",
              "    'precision': 'int',\n",
              "    'min': -32768,\n",
              "    'max': 32767},\n",
              "   'dimensions': [7661, 7791],\n",
              "   'crs': 'EPSG:32610',\n",
              "   'crs_transform': [30, 0, 500385, 0, -30, 4423215]},\n",
              "  {'id': 'ST_CDIST',\n",
              "   'data_type': {'type': 'PixelType',\n",
              "    'precision': 'int',\n",
              "    'min': -32768,\n",
              "    'max': 32767},\n",
              "   'dimensions': [7661, 7791],\n",
              "   'crs': 'EPSG:32610',\n",
              "   'crs_transform': [30, 0, 500385, 0, -30, 4423215]},\n",
              "  {'id': 'ST_DRAD',\n",
              "   'data_type': {'type': 'PixelType',\n",
              "    'precision': 'int',\n",
              "    'min': -32768,\n",
              "    'max': 32767},\n",
              "   'dimensions': [7661, 7791],\n",
              "   'crs': 'EPSG:32610',\n",
              "   'crs_transform': [30, 0, 500385, 0, -30, 4423215]},\n",
              "  {'id': 'ST_EMIS',\n",
              "   'data_type': {'type': 'PixelType',\n",
              "    'precision': 'int',\n",
              "    'min': -32768,\n",
              "    'max': 32767},\n",
              "   'dimensions': [7661, 7791],\n",
              "   'crs': 'EPSG:32610',\n",
              "   'crs_transform': [30, 0, 500385, 0, -30, 4423215]},\n",
              "  {'id': 'ST_EMSD',\n",
              "   'data_type': {'type': 'PixelType',\n",
              "    'precision': 'int',\n",
              "    'min': -32768,\n",
              "    'max': 32767},\n",
              "   'dimensions': [7661, 7791],\n",
              "   'crs': 'EPSG:32610',\n",
              "   'crs_transform': [30, 0, 500385, 0, -30, 4423215]},\n",
              "  {'id': 'ST_QA',\n",
              "   'data_type': {'type': 'PixelType',\n",
              "    'precision': 'int',\n",
              "    'min': -32768,\n",
              "    'max': 32767},\n",
              "   'dimensions': [7661, 7791],\n",
              "   'crs': 'EPSG:32610',\n",
              "   'crs_transform': [30, 0, 500385, 0, -30, 4423215]},\n",
              "  {'id': 'ST_TRAD',\n",
              "   'data_type': {'type': 'PixelType',\n",
              "    'precision': 'int',\n",
              "    'min': -32768,\n",
              "    'max': 32767},\n",
              "   'dimensions': [7661, 7791],\n",
              "   'crs': 'EPSG:32610',\n",
              "   'crs_transform': [30, 0, 500385, 0, -30, 4423215]},\n",
              "  {'id': 'ST_URAD',\n",
              "   'data_type': {'type': 'PixelType',\n",
              "    'precision': 'int',\n",
              "    'min': -32768,\n",
              "    'max': 32767},\n",
              "   'dimensions': [7661, 7791],\n",
              "   'crs': 'EPSG:32610',\n",
              "   'crs_transform': [30, 0, 500385, 0, -30, 4423215]},\n",
              "  {'id': 'QA_PIXEL',\n",
              "   'data_type': {'type': 'PixelType',\n",
              "    'precision': 'int',\n",
              "    'min': 0,\n",
              "    'max': 65535},\n",
              "   'dimensions': [7661, 7791],\n",
              "   'crs': 'EPSG:32610',\n",
              "   'crs_transform': [30, 0, 500385, 0, -30, 4423215]},\n",
              "  {'id': 'QA_RADSAT',\n",
              "   'data_type': {'type': 'PixelType',\n",
              "    'precision': 'int',\n",
              "    'min': 0,\n",
              "    'max': 65535},\n",
              "   'dimensions': [7661, 7791],\n",
              "   'crs': 'EPSG:32610',\n",
              "   'crs_transform': [30, 0, 500385, 0, -30, 4423215]}],\n",
              " 'id': 'LANDSAT/LC08/C02/T1_L2/LC08_044033_20181007',\n",
              " 'version': 1629895720593702,\n",
              " 'properties': {'DATA_SOURCE_ELEVATION': 'GLS2000',\n",
              "  'WRS_TYPE': 2,\n",
              "  'REFLECTANCE_ADD_BAND_1': -0.2,\n",
              "  'REFLECTANCE_ADD_BAND_2': -0.2,\n",
              "  'DATUM': 'WGS84',\n",
              "  'REFLECTANCE_ADD_BAND_3': -0.2,\n",
              "  'REFLECTANCE_ADD_BAND_4': -0.2,\n",
              "  'REFLECTANCE_ADD_BAND_5': -0.2,\n",
              "  'REFLECTANCE_ADD_BAND_6': -0.2,\n",
              "  'REFLECTANCE_ADD_BAND_7': -0.2,\n",
              "  'system:footprint': {'type': 'LinearRing',\n",
              "   'coordinates': [[-120.96945987441705, 37.85396978622024],\n",
              "    [-120.91758272903665, 37.84360095586152],\n",
              "    [-120.91091374989027, 37.84230108097053],\n",
              "    [-120.91032102754652, 37.84319081260253],\n",
              "    [-120.90026375188283, 37.87485737375912],\n",
              "    [-120.88601930375758, 37.91975025888466],\n",
              "    [-120.87475935368046, 37.95523294042605],\n",
              "    [-120.76830993328551, 38.28982473972092],\n",
              "    [-120.60616669159636, 38.7956184110626],\n",
              "    [-120.46920219411804, 39.21870028030481],\n",
              "    [-120.35829507594683, 39.55929948514903],\n",
              "    [-120.358940626908, 39.55982942717467],\n",
              "    [-120.3773619745756, 39.563471697339374],\n",
              "    [-121.13362575572384, 39.70944332250483],\n",
              "    [-122.47094597878574, 39.95415252966201],\n",
              "    [-122.47146231484521, 39.953369391342086],\n",
              "    [-122.47255137997769, 39.95009912185038],\n",
              "    [-122.97579676306593, 38.235899800160965],\n",
              "    [-122.97515026884432, 38.23538966186662],\n",
              "    [-122.83153924692401, 38.209342252115945],\n",
              "    [-120.96945987441705, 37.85396978622024]]},\n",
              "  'REFLECTIVE_SAMPLES': 7661,\n",
              "  'GROUND_CONTROL_POINTS_VERSION': 5,\n",
              "  'SUN_AZIMUTH': 156.37136574,\n",
              "  'DATA_SOURCE_TIRS_STRAY_LIGHT_CORRECTION': 'TIRS',\n",
              "  'UTM_ZONE': 10,\n",
              "  'DATE_ACQUIRED': '2018-10-07',\n",
              "  'ELLIPSOID': 'WGS84',\n",
              "  'system:time_end': 1538937928212,\n",
              "  'DATA_SOURCE_PRESSURE': 'Calculated',\n",
              "  'LANDSAT_PRODUCT_ID': 'LC08_L2SP_044033_20181007_20200830_02_T1',\n",
              "  'STATION_ID': 'LGN',\n",
              "  'TEMPERATURE_ADD_BAND_ST_B10': 149,\n",
              "  'DATA_SOURCE_REANALYSIS': 'GEOS-5 FP-IT',\n",
              "  'REFLECTANCE_MULT_BAND_7': 2.75e-05,\n",
              "  'system:time_start': 1538937928212,\n",
              "  'REFLECTANCE_MULT_BAND_6': 2.75e-05,\n",
              "  'L1_PROCESSING_LEVEL': 'L1TP',\n",
              "  'PROCESSING_SOFTWARE_VERSION': 'LPGS_15.3.1c',\n",
              "  'L1_DATE_PRODUCT_GENERATED': '2020-08-30T22:04:06Z',\n",
              "  'ORIENTATION': 'NORTH_UP',\n",
              "  'REFLECTANCE_MULT_BAND_1': 2.75e-05,\n",
              "  'WRS_ROW': 33,\n",
              "  'REFLECTANCE_MULT_BAND_3': 2.75e-05,\n",
              "  'REFLECTANCE_MULT_BAND_2': 2.75e-05,\n",
              "  'TARGET_WRS_ROW': 33,\n",
              "  'REFLECTANCE_MULT_BAND_5': 2.75e-05,\n",
              "  'REFLECTANCE_MULT_BAND_4': 2.75e-05,\n",
              "  'THERMAL_LINES': 7791,\n",
              "  'TIRS_SSM_POSITION_STATUS': 'ESTIMATED',\n",
              "  'GRID_CELL_SIZE_THERMAL': 30,\n",
              "  'IMAGE_QUALITY_TIRS': 9,\n",
              "  'TRUNCATION_OLI': 'UPPER',\n",
              "  'NADIR_OFFNADIR': 'NADIR',\n",
              "  'CLOUD_COVER': 0.05,\n",
              "  'REQUEST_ID': 'L2',\n",
              "  'EARTH_SUN_DISTANCE': 0.9993983,\n",
              "  'GEOMETRIC_RMSE_VERIFY': 3.028,\n",
              "  'TIRS_SSM_MODEL': 'FINAL',\n",
              "  'COLLECTION_CATEGORY': 'T1',\n",
              "  'SCENE_CENTER_TIME': '18:45:28.2127380Z',\n",
              "  'GRID_CELL_SIZE_REFLECTIVE': 30,\n",
              "  'SUN_ELEVATION': 42.62885674,\n",
              "  'ALGORITHM_SOURCE_SURFACE_TEMPERATURE': 'st_1.3.0',\n",
              "  'TEMPERATURE_MAXIMUM_BAND_ST_B10': 372.999941,\n",
              "  'CLOUD_COVER_LAND': 0.05,\n",
              "  'GEOMETRIC_RMSE_MODEL': 5.915,\n",
              "  'ROLL_ANGLE': -0.001,\n",
              "  'COLLECTION_NUMBER': 2,\n",
              "  'DATE_PRODUCT_GENERATED': 1598825983000,\n",
              "  'L1_REQUEST_ID': 'L2',\n",
              "  'DATA_SOURCE_OZONE': 'MODIS',\n",
              "  'SATURATION_BAND_1': 'Y',\n",
              "  'DATA_SOURCE_WATER_VAPOR': 'MODIS',\n",
              "  'SATURATION_BAND_2': 'Y',\n",
              "  'SATURATION_BAND_3': 'Y',\n",
              "  'IMAGE_QUALITY_OLI': 9,\n",
              "  'SATURATION_BAND_4': 'Y',\n",
              "  'LANDSAT_SCENE_ID': 'LC80440332018280LGN00',\n",
              "  'SATURATION_BAND_5': 'Y',\n",
              "  'MAP_PROJECTION': 'UTM',\n",
              "  'SATURATION_BAND_6': 'Y',\n",
              "  'SENSOR_ID': 'OLI_TIRS',\n",
              "  'SATURATION_BAND_7': 'Y',\n",
              "  'SATURATION_BAND_8': 'N',\n",
              "  'WRS_PATH': 44,\n",
              "  'SATURATION_BAND_9': 'N',\n",
              "  'TARGET_WRS_PATH': 44,\n",
              "  'L1_PROCESSING_SOFTWARE_VERSION': 'LPGS_15.3.1c',\n",
              "  'TEMPERATURE_MULT_BAND_ST_B10': 0.00341802,\n",
              "  'L1_LANDSAT_PRODUCT_ID': 'LC08_L1TP_044033_20181007_20200830_02_T1',\n",
              "  'PROCESSING_LEVEL': 'L2SP',\n",
              "  'ALGORITHM_SOURCE_SURFACE_REFLECTANCE': 'LaSRC_1.5.0',\n",
              "  'GROUND_CONTROL_POINTS_MODEL': 1318,\n",
              "  'SPACECRAFT_ID': 'LANDSAT_8',\n",
              "  'TEMPERATURE_MINIMUM_BAND_ST_B10': 149.003418,\n",
              "  'GEOMETRIC_RMSE_MODEL_Y': 4.945,\n",
              "  'REFLECTIVE_LINES': 7791,\n",
              "  'GEOMETRIC_RMSE_MODEL_X': 3.246,\n",
              "  'THERMAL_SAMPLES': 7661,\n",
              "  'system:asset_size': 965138511,\n",
              "  'DATA_SOURCE_AIR_TEMPERATURE': 'MODIS',\n",
              "  'GROUND_CONTROL_POINTS_VERIFY': 416,\n",
              "  'system:index': 'LC08_044033_20181007'}}"
            ]
          },
          "metadata": {},
          "execution_count": 7
        }
      ],
      "source": [
        "#information about the first images in the collection\n",
        "\n",
        "landsat.first().getInfo()"
      ]
    },
    {
      "cell_type": "code",
      "execution_count": 8,
      "metadata": {
        "colab": {
          "base_uri": "https://localhost:8080/"
        },
        "id": "8d2sEhD-yqRn",
        "outputId": "d0e83793-0659-4161-8154-e989209557c3"
      },
      "outputs": [
        {
          "output_type": "execute_result",
          "data": {
            "text/plain": [
              "0.05"
            ]
          },
          "metadata": {},
          "execution_count": 8
        }
      ],
      "source": [
        "landsat.first().get('CLOUD_COVER').getInfo()"
      ]
    },
    {
      "cell_type": "code",
      "execution_count": 9,
      "metadata": {
        "colab": {
          "base_uri": "https://localhost:8080/",
          "height": 35
        },
        "id": "Bpse57W7yqVy",
        "outputId": "e6ba6d3f-e10d-4909-f85b-c31cbdd18e33"
      },
      "outputs": [
        {
          "output_type": "execute_result",
          "data": {
            "text/plain": [
              "'2018-10-07'"
            ],
            "application/vnd.google.colaboratory.intrinsic+json": {
              "type": "string"
            }
          },
          "metadata": {},
          "execution_count": 9
        }
      ],
      "source": [
        "#when the first image was taken\n",
        "landsat.first().get('DATE_ACQUIRED').getInfo()"
      ]
    },
    {
      "cell_type": "code",
      "execution_count": 10,
      "metadata": {
        "colab": {
          "base_uri": "https://localhost:8080/"
        },
        "id": "WTrzXj-GyqZi",
        "outputId": "eb02599f-ad22-4c20-a244-81cd6ad4da16"
      },
      "outputs": [
        {
          "output_type": "execute_result",
          "data": {
            "text/plain": [
              "['SR_B1',\n",
              " 'SR_B2',\n",
              " 'SR_B3',\n",
              " 'SR_B4',\n",
              " 'SR_B5',\n",
              " 'SR_B6',\n",
              " 'SR_B7',\n",
              " 'SR_QA_AEROSOL',\n",
              " 'ST_B10',\n",
              " 'ST_ATRAN',\n",
              " 'ST_CDIST',\n",
              " 'ST_DRAD',\n",
              " 'ST_EMIS',\n",
              " 'ST_EMSD',\n",
              " 'ST_QA',\n",
              " 'ST_TRAD',\n",
              " 'ST_URAD',\n",
              " 'QA_PIXEL',\n",
              " 'QA_RADSAT']"
            ]
          },
          "metadata": {},
          "execution_count": 10
        }
      ],
      "source": [
        "#what bands was gotten\n",
        "landsat.first().bandNames().getInfo()"
      ]
    },
    {
      "cell_type": "code",
      "execution_count": 11,
      "metadata": {
        "id": "JNJ6j-Cpyqct"
      },
      "outputs": [],
      "source": [
        "#put images in a list\n",
        "landsat_list =landsat.toList(landsat.size());"
      ]
    },
    {
      "cell_type": "code",
      "execution_count": 12,
      "metadata": {
        "id": "ITrvBmhNyqho"
      },
      "outputs": [],
      "source": [
        "#setting parameters for the images\n",
        "\n",
        "parameters = {\n",
        "                'min': 7000,\n",
        "                'max': 16000,\n",
        "                'dimensions': 800, #square size in pixels\n",
        "                'bands' : ['SR_B4', 'SR_B3', 'SR_B2'] #bands to display (r,g,b)\n",
        "              }"
      ]
    },
    {
      "cell_type": "code",
      "execution_count": 13,
      "metadata": {
        "colab": {
          "base_uri": "https://localhost:8080/",
          "height": 1000
        },
        "id": "LEMgxcrmgsT7",
        "outputId": "e805bc6f-6314-436b-c009-80ea1d626bdc"
      },
      "outputs": [
        {
          "output_type": "stream",
          "name": "stdout",
          "text": [
            "Image # 0 [] CLOUD_COVER 0.05\n"
          ]
        },
        {
          "output_type": "display_data",
          "data": {
            "text/html": [
              "<img src=\"https://earthengine.googleapis.com/v1/projects/ee-ephraim/thumbnails/ca87b0520130a225ca298ab03c8087f7-0b8e3cd125b47c879e3a044bf0ef68ad:getPixels\"/>"
            ],
            "text/plain": [
              "<IPython.core.display.Image object>"
            ]
          },
          "metadata": {}
        },
        {
          "output_type": "stream",
          "name": "stdout",
          "text": [
            "Image # 1 [[0, '2018-10-07', 0.05]] CLOUD_COVER 73.04\n"
          ]
        },
        {
          "output_type": "display_data",
          "data": {
            "text/html": [
              "<img src=\"https://earthengine.googleapis.com/v1/projects/ee-ephraim/thumbnails/27194f122bce8d9c86a8132484f8a214-571a89df2141d06dfccb27bea76605d4:getPixels\"/>"
            ],
            "text/plain": [
              "<IPython.core.display.Image object>"
            ]
          },
          "metadata": {}
        },
        {
          "output_type": "stream",
          "name": "stdout",
          "text": [
            "Image # 2 [[0, '2018-10-07', 0.05], [1, '2018-10-23', 73.04]] CLOUD_COVER 11.83\n"
          ]
        },
        {
          "output_type": "display_data",
          "data": {
            "text/html": [
              "<img src=\"https://earthengine.googleapis.com/v1/projects/ee-ephraim/thumbnails/51dcf873ca0a5351d110df2db4662e49-af5a7c7c59b211728b9d5ea1e8c8f0b6:getPixels\"/>"
            ],
            "text/plain": [
              "<IPython.core.display.Image object>"
            ]
          },
          "metadata": {}
        },
        {
          "output_type": "stream",
          "name": "stdout",
          "text": [
            "Image # 3 [[0, '2018-10-07', 0.05], [1, '2018-10-23', 73.04], [2, '2018-11-08', 11.83]] CLOUD_COVER 67.16\n"
          ]
        },
        {
          "output_type": "display_data",
          "data": {
            "text/html": [
              "<img src=\"https://earthengine.googleapis.com/v1/projects/ee-ephraim/thumbnails/34cf6c79cfde4416d8e84a832c46bca4-1a37098c5596376671201302dc3ab9b7:getPixels\"/>"
            ],
            "text/plain": [
              "<IPython.core.display.Image object>"
            ]
          },
          "metadata": {}
        },
        {
          "output_type": "stream",
          "name": "stdout",
          "text": [
            "Image # 4 [[0, '2018-10-07', 0.05], [1, '2018-10-23', 73.04], [2, '2018-11-08', 11.83], [3, '2018-11-24', 67.16]] CLOUD_COVER 56.09\n"
          ]
        },
        {
          "output_type": "display_data",
          "data": {
            "text/html": [
              "<img src=\"https://earthengine.googleapis.com/v1/projects/ee-ephraim/thumbnails/fd18952e47a21370103dc220b93d0abd-f6bf8aeddffd871dfff28e687e97c7ed:getPixels\"/>"
            ],
            "text/plain": [
              "<IPython.core.display.Image object>"
            ]
          },
          "metadata": {}
        },
        {
          "output_type": "stream",
          "name": "stdout",
          "text": [
            "Image # 5 [[0, '2018-10-07', 0.05], [1, '2018-10-23', 73.04], [2, '2018-11-08', 11.83], [3, '2018-11-24', 67.16], [4, '2018-12-10', 56.09]] CLOUD_COVER 5.99\n"
          ]
        },
        {
          "output_type": "display_data",
          "data": {
            "text/html": [
              "<img src=\"https://earthengine.googleapis.com/v1/projects/ee-ephraim/thumbnails/2f0253e803c0de922c118f70eea0d7df-b370c16f49e008682640c5e60f1d85cc:getPixels\"/>"
            ],
            "text/plain": [
              "<IPython.core.display.Image object>"
            ]
          },
          "metadata": {}
        },
        {
          "output_type": "stream",
          "name": "stdout",
          "text": [
            "Image # 6 [[0, '2018-10-07', 0.05], [1, '2018-10-23', 73.04], [2, '2018-11-08', 11.83], [3, '2018-11-24', 67.16], [4, '2018-12-10', 56.09], [5, '2018-12-26', 5.99]] CLOUD_COVER 80.06\n"
          ]
        },
        {
          "output_type": "display_data",
          "data": {
            "text/html": [
              "<img src=\"https://earthengine.googleapis.com/v1/projects/ee-ephraim/thumbnails/94518e686bfaf5c95558c5e265f35eda-0d27efe66ac2a39c179a6f89684e74b1:getPixels\"/>"
            ],
            "text/plain": [
              "<IPython.core.display.Image object>"
            ]
          },
          "metadata": {}
        },
        {
          "output_type": "stream",
          "name": "stdout",
          "text": [
            "Image # 7 [[0, '2018-10-07', 0.05], [1, '2018-10-23', 73.04], [2, '2018-11-08', 11.83], [3, '2018-11-24', 67.16], [4, '2018-12-10', 56.09], [5, '2018-12-26', 5.99], [6, '2019-01-11', 80.06]] CLOUD_COVER 5.21\n"
          ]
        },
        {
          "output_type": "display_data",
          "data": {
            "text/html": [
              "<img src=\"https://earthengine.googleapis.com/v1/projects/ee-ephraim/thumbnails/b6fe31cf1aee316545c0acda74c713e6-27a26c1ca0a4d9a6015d3f98bac8271a:getPixels\"/>"
            ],
            "text/plain": [
              "<IPython.core.display.Image object>"
            ]
          },
          "metadata": {}
        }
      ],
      "source": [
        "#create empty data container\n",
        "data =[]\n",
        "\n",
        "#loop through each image and display it\n",
        "for i in range (landsat.size().getInfo()):\n",
        "\n",
        "  #what was the imge taken\n",
        "  date =ee.Image(landsat_list.get(i)).get('DATE_ACQUIRED').getInfo()\n",
        "\n",
        "  #cloud cover\n",
        "  cloud =ee.Image(landsat_list.get(i)).get('CLOUD_COVER').getInfo()\n",
        "\n",
        "  #print image info\n",
        "  print('Image #', i, data, 'CLOUD_COVER', cloud)\n",
        "\n",
        "  #display image\n",
        "  display(Image(url =ee.Image(landsat_list.get(i)).getThumbUrl(parameters)))\n",
        "\n",
        "  #data to list\n",
        "  this_data=[i,date,cloud]\n",
        "\n",
        "  #append the data\n",
        "  data.append(this_data)\n",
        "\n",
        "#create panda dataframe\n",
        "df=pd.DataFrame(data, columns=['Image #', 'Date', 'Cloud Cover'])\n",
        "\n",
        "\n"
      ]
    },
    {
      "cell_type": "code",
      "execution_count": 14,
      "metadata": {
        "colab": {
          "base_uri": "https://localhost:8080/",
          "height": 300
        },
        "id": "uEtE90nSjJV8",
        "outputId": "716b45f8-876f-44ef-f20b-b949fa836ecd"
      },
      "outputs": [
        {
          "output_type": "execute_result",
          "data": {
            "text/plain": [
              "   Image #        Date  Cloud Cover\n",
              "0        0  2018-10-07         0.05\n",
              "1        1  2018-10-23        73.04\n",
              "2        2  2018-11-08        11.83\n",
              "3        3  2018-11-24        67.16\n",
              "4        4  2018-12-10        56.09\n",
              "5        5  2018-12-26         5.99\n",
              "6        6  2019-01-11        80.06\n",
              "7        7  2019-01-27         5.21"
            ],
            "text/html": [
              "\n",
              "  <div id=\"df-abfc4c3e-1c82-4048-ac5c-edc47ba65b87\" class=\"colab-df-container\">\n",
              "    <div>\n",
              "<style scoped>\n",
              "    .dataframe tbody tr th:only-of-type {\n",
              "        vertical-align: middle;\n",
              "    }\n",
              "\n",
              "    .dataframe tbody tr th {\n",
              "        vertical-align: top;\n",
              "    }\n",
              "\n",
              "    .dataframe thead th {\n",
              "        text-align: right;\n",
              "    }\n",
              "</style>\n",
              "<table border=\"1\" class=\"dataframe\">\n",
              "  <thead>\n",
              "    <tr style=\"text-align: right;\">\n",
              "      <th></th>\n",
              "      <th>Image #</th>\n",
              "      <th>Date</th>\n",
              "      <th>Cloud Cover</th>\n",
              "    </tr>\n",
              "  </thead>\n",
              "  <tbody>\n",
              "    <tr>\n",
              "      <th>0</th>\n",
              "      <td>0</td>\n",
              "      <td>2018-10-07</td>\n",
              "      <td>0.05</td>\n",
              "    </tr>\n",
              "    <tr>\n",
              "      <th>1</th>\n",
              "      <td>1</td>\n",
              "      <td>2018-10-23</td>\n",
              "      <td>73.04</td>\n",
              "    </tr>\n",
              "    <tr>\n",
              "      <th>2</th>\n",
              "      <td>2</td>\n",
              "      <td>2018-11-08</td>\n",
              "      <td>11.83</td>\n",
              "    </tr>\n",
              "    <tr>\n",
              "      <th>3</th>\n",
              "      <td>3</td>\n",
              "      <td>2018-11-24</td>\n",
              "      <td>67.16</td>\n",
              "    </tr>\n",
              "    <tr>\n",
              "      <th>4</th>\n",
              "      <td>4</td>\n",
              "      <td>2018-12-10</td>\n",
              "      <td>56.09</td>\n",
              "    </tr>\n",
              "    <tr>\n",
              "      <th>5</th>\n",
              "      <td>5</td>\n",
              "      <td>2018-12-26</td>\n",
              "      <td>5.99</td>\n",
              "    </tr>\n",
              "    <tr>\n",
              "      <th>6</th>\n",
              "      <td>6</td>\n",
              "      <td>2019-01-11</td>\n",
              "      <td>80.06</td>\n",
              "    </tr>\n",
              "    <tr>\n",
              "      <th>7</th>\n",
              "      <td>7</td>\n",
              "      <td>2019-01-27</td>\n",
              "      <td>5.21</td>\n",
              "    </tr>\n",
              "  </tbody>\n",
              "</table>\n",
              "</div>\n",
              "    <div class=\"colab-df-buttons\">\n",
              "\n",
              "  <div class=\"colab-df-container\">\n",
              "    <button class=\"colab-df-convert\" onclick=\"convertToInteractive('df-abfc4c3e-1c82-4048-ac5c-edc47ba65b87')\"\n",
              "            title=\"Convert this dataframe to an interactive table.\"\n",
              "            style=\"display:none;\">\n",
              "\n",
              "  <svg xmlns=\"http://www.w3.org/2000/svg\" height=\"24px\" viewBox=\"0 -960 960 960\">\n",
              "    <path d=\"M120-120v-720h720v720H120Zm60-500h600v-160H180v160Zm220 220h160v-160H400v160Zm0 220h160v-160H400v160ZM180-400h160v-160H180v160Zm440 0h160v-160H620v160ZM180-180h160v-160H180v160Zm440 0h160v-160H620v160Z\"/>\n",
              "  </svg>\n",
              "    </button>\n",
              "\n",
              "  <style>\n",
              "    .colab-df-container {\n",
              "      display:flex;\n",
              "      gap: 12px;\n",
              "    }\n",
              "\n",
              "    .colab-df-convert {\n",
              "      background-color: #E8F0FE;\n",
              "      border: none;\n",
              "      border-radius: 50%;\n",
              "      cursor: pointer;\n",
              "      display: none;\n",
              "      fill: #1967D2;\n",
              "      height: 32px;\n",
              "      padding: 0 0 0 0;\n",
              "      width: 32px;\n",
              "    }\n",
              "\n",
              "    .colab-df-convert:hover {\n",
              "      background-color: #E2EBFA;\n",
              "      box-shadow: 0px 1px 2px rgba(60, 64, 67, 0.3), 0px 1px 3px 1px rgba(60, 64, 67, 0.15);\n",
              "      fill: #174EA6;\n",
              "    }\n",
              "\n",
              "    .colab-df-buttons div {\n",
              "      margin-bottom: 4px;\n",
              "    }\n",
              "\n",
              "    [theme=dark] .colab-df-convert {\n",
              "      background-color: #3B4455;\n",
              "      fill: #D2E3FC;\n",
              "    }\n",
              "\n",
              "    [theme=dark] .colab-df-convert:hover {\n",
              "      background-color: #434B5C;\n",
              "      box-shadow: 0px 1px 3px 1px rgba(0, 0, 0, 0.15);\n",
              "      filter: drop-shadow(0px 1px 2px rgba(0, 0, 0, 0.3));\n",
              "      fill: #FFFFFF;\n",
              "    }\n",
              "  </style>\n",
              "\n",
              "    <script>\n",
              "      const buttonEl =\n",
              "        document.querySelector('#df-abfc4c3e-1c82-4048-ac5c-edc47ba65b87 button.colab-df-convert');\n",
              "      buttonEl.style.display =\n",
              "        google.colab.kernel.accessAllowed ? 'block' : 'none';\n",
              "\n",
              "      async function convertToInteractive(key) {\n",
              "        const element = document.querySelector('#df-abfc4c3e-1c82-4048-ac5c-edc47ba65b87');\n",
              "        const dataTable =\n",
              "          await google.colab.kernel.invokeFunction('convertToInteractive',\n",
              "                                                    [key], {});\n",
              "        if (!dataTable) return;\n",
              "\n",
              "        const docLinkHtml = 'Like what you see? Visit the ' +\n",
              "          '<a target=\"_blank\" href=https://colab.research.google.com/notebooks/data_table.ipynb>data table notebook</a>'\n",
              "          + ' to learn more about interactive tables.';\n",
              "        element.innerHTML = '';\n",
              "        dataTable['output_type'] = 'display_data';\n",
              "        await google.colab.output.renderOutput(dataTable, element);\n",
              "        const docLink = document.createElement('div');\n",
              "        docLink.innerHTML = docLinkHtml;\n",
              "        element.appendChild(docLink);\n",
              "      }\n",
              "    </script>\n",
              "  </div>\n",
              "\n",
              "\n",
              "<div id=\"df-9571e7ab-6007-4704-adc4-9517f23dc9fa\">\n",
              "  <button class=\"colab-df-quickchart\" onclick=\"quickchart('df-9571e7ab-6007-4704-adc4-9517f23dc9fa')\"\n",
              "            title=\"Suggest charts\"\n",
              "            style=\"display:none;\">\n",
              "\n",
              "<svg xmlns=\"http://www.w3.org/2000/svg\" height=\"24px\"viewBox=\"0 0 24 24\"\n",
              "     width=\"24px\">\n",
              "    <g>\n",
              "        <path d=\"M19 3H5c-1.1 0-2 .9-2 2v14c0 1.1.9 2 2 2h14c1.1 0 2-.9 2-2V5c0-1.1-.9-2-2-2zM9 17H7v-7h2v7zm4 0h-2V7h2v10zm4 0h-2v-4h2v4z\"/>\n",
              "    </g>\n",
              "</svg>\n",
              "  </button>\n",
              "\n",
              "<style>\n",
              "  .colab-df-quickchart {\n",
              "      --bg-color: #E8F0FE;\n",
              "      --fill-color: #1967D2;\n",
              "      --hover-bg-color: #E2EBFA;\n",
              "      --hover-fill-color: #174EA6;\n",
              "      --disabled-fill-color: #AAA;\n",
              "      --disabled-bg-color: #DDD;\n",
              "  }\n",
              "\n",
              "  [theme=dark] .colab-df-quickchart {\n",
              "      --bg-color: #3B4455;\n",
              "      --fill-color: #D2E3FC;\n",
              "      --hover-bg-color: #434B5C;\n",
              "      --hover-fill-color: #FFFFFF;\n",
              "      --disabled-bg-color: #3B4455;\n",
              "      --disabled-fill-color: #666;\n",
              "  }\n",
              "\n",
              "  .colab-df-quickchart {\n",
              "    background-color: var(--bg-color);\n",
              "    border: none;\n",
              "    border-radius: 50%;\n",
              "    cursor: pointer;\n",
              "    display: none;\n",
              "    fill: var(--fill-color);\n",
              "    height: 32px;\n",
              "    padding: 0;\n",
              "    width: 32px;\n",
              "  }\n",
              "\n",
              "  .colab-df-quickchart:hover {\n",
              "    background-color: var(--hover-bg-color);\n",
              "    box-shadow: 0 1px 2px rgba(60, 64, 67, 0.3), 0 1px 3px 1px rgba(60, 64, 67, 0.15);\n",
              "    fill: var(--button-hover-fill-color);\n",
              "  }\n",
              "\n",
              "  .colab-df-quickchart-complete:disabled,\n",
              "  .colab-df-quickchart-complete:disabled:hover {\n",
              "    background-color: var(--disabled-bg-color);\n",
              "    fill: var(--disabled-fill-color);\n",
              "    box-shadow: none;\n",
              "  }\n",
              "\n",
              "  .colab-df-spinner {\n",
              "    border: 2px solid var(--fill-color);\n",
              "    border-color: transparent;\n",
              "    border-bottom-color: var(--fill-color);\n",
              "    animation:\n",
              "      spin 1s steps(1) infinite;\n",
              "  }\n",
              "\n",
              "  @keyframes spin {\n",
              "    0% {\n",
              "      border-color: transparent;\n",
              "      border-bottom-color: var(--fill-color);\n",
              "      border-left-color: var(--fill-color);\n",
              "    }\n",
              "    20% {\n",
              "      border-color: transparent;\n",
              "      border-left-color: var(--fill-color);\n",
              "      border-top-color: var(--fill-color);\n",
              "    }\n",
              "    30% {\n",
              "      border-color: transparent;\n",
              "      border-left-color: var(--fill-color);\n",
              "      border-top-color: var(--fill-color);\n",
              "      border-right-color: var(--fill-color);\n",
              "    }\n",
              "    40% {\n",
              "      border-color: transparent;\n",
              "      border-right-color: var(--fill-color);\n",
              "      border-top-color: var(--fill-color);\n",
              "    }\n",
              "    60% {\n",
              "      border-color: transparent;\n",
              "      border-right-color: var(--fill-color);\n",
              "    }\n",
              "    80% {\n",
              "      border-color: transparent;\n",
              "      border-right-color: var(--fill-color);\n",
              "      border-bottom-color: var(--fill-color);\n",
              "    }\n",
              "    90% {\n",
              "      border-color: transparent;\n",
              "      border-bottom-color: var(--fill-color);\n",
              "    }\n",
              "  }\n",
              "</style>\n",
              "\n",
              "  <script>\n",
              "    async function quickchart(key) {\n",
              "      const quickchartButtonEl =\n",
              "        document.querySelector('#' + key + ' button');\n",
              "      quickchartButtonEl.disabled = true;  // To prevent multiple clicks.\n",
              "      quickchartButtonEl.classList.add('colab-df-spinner');\n",
              "      try {\n",
              "        const charts = await google.colab.kernel.invokeFunction(\n",
              "            'suggestCharts', [key], {});\n",
              "      } catch (error) {\n",
              "        console.error('Error during call to suggestCharts:', error);\n",
              "      }\n",
              "      quickchartButtonEl.classList.remove('colab-df-spinner');\n",
              "      quickchartButtonEl.classList.add('colab-df-quickchart-complete');\n",
              "    }\n",
              "    (() => {\n",
              "      let quickchartButtonEl =\n",
              "        document.querySelector('#df-9571e7ab-6007-4704-adc4-9517f23dc9fa button');\n",
              "      quickchartButtonEl.style.display =\n",
              "        google.colab.kernel.accessAllowed ? 'block' : 'none';\n",
              "    })();\n",
              "  </script>\n",
              "</div>\n",
              "\n",
              "  <div id=\"id_52b80073-ff1e-46e0-8e31-4f034a33ffd7\">\n",
              "    <style>\n",
              "      .colab-df-generate {\n",
              "        background-color: #E8F0FE;\n",
              "        border: none;\n",
              "        border-radius: 50%;\n",
              "        cursor: pointer;\n",
              "        display: none;\n",
              "        fill: #1967D2;\n",
              "        height: 32px;\n",
              "        padding: 0 0 0 0;\n",
              "        width: 32px;\n",
              "      }\n",
              "\n",
              "      .colab-df-generate:hover {\n",
              "        background-color: #E2EBFA;\n",
              "        box-shadow: 0px 1px 2px rgba(60, 64, 67, 0.3), 0px 1px 3px 1px rgba(60, 64, 67, 0.15);\n",
              "        fill: #174EA6;\n",
              "      }\n",
              "\n",
              "      [theme=dark] .colab-df-generate {\n",
              "        background-color: #3B4455;\n",
              "        fill: #D2E3FC;\n",
              "      }\n",
              "\n",
              "      [theme=dark] .colab-df-generate:hover {\n",
              "        background-color: #434B5C;\n",
              "        box-shadow: 0px 1px 3px 1px rgba(0, 0, 0, 0.15);\n",
              "        filter: drop-shadow(0px 1px 2px rgba(0, 0, 0, 0.3));\n",
              "        fill: #FFFFFF;\n",
              "      }\n",
              "    </style>\n",
              "    <button class=\"colab-df-generate\" onclick=\"generateWithVariable('df')\"\n",
              "            title=\"Generate code using this dataframe.\"\n",
              "            style=\"display:none;\">\n",
              "\n",
              "  <svg xmlns=\"http://www.w3.org/2000/svg\" height=\"24px\"viewBox=\"0 0 24 24\"\n",
              "       width=\"24px\">\n",
              "    <path d=\"M7,19H8.4L18.45,9,17,7.55,7,17.6ZM5,21V16.75L18.45,3.32a2,2,0,0,1,2.83,0l1.4,1.43a1.91,1.91,0,0,1,.58,1.4,1.91,1.91,0,0,1-.58,1.4L9.25,21ZM18.45,9,17,7.55Zm-12,3A5.31,5.31,0,0,0,4.9,8.1,5.31,5.31,0,0,0,1,6.5,5.31,5.31,0,0,0,4.9,4.9,5.31,5.31,0,0,0,6.5,1,5.31,5.31,0,0,0,8.1,4.9,5.31,5.31,0,0,0,12,6.5,5.46,5.46,0,0,0,6.5,12Z\"/>\n",
              "  </svg>\n",
              "    </button>\n",
              "    <script>\n",
              "      (() => {\n",
              "      const buttonEl =\n",
              "        document.querySelector('#id_52b80073-ff1e-46e0-8e31-4f034a33ffd7 button.colab-df-generate');\n",
              "      buttonEl.style.display =\n",
              "        google.colab.kernel.accessAllowed ? 'block' : 'none';\n",
              "\n",
              "      buttonEl.onclick = () => {\n",
              "        google.colab.notebook.generateWithVariable('df');\n",
              "      }\n",
              "      })();\n",
              "    </script>\n",
              "  </div>\n",
              "\n",
              "    </div>\n",
              "  </div>\n"
            ]
          },
          "metadata": {},
          "execution_count": 14
        }
      ],
      "source": [
        "df"
      ]
    },
    {
      "cell_type": "code",
      "execution_count": 15,
      "metadata": {
        "id": "TGnDk65fjKEQ"
      },
      "outputs": [],
      "source": [
        "# Create list of imaeges before, during, after\n",
        "\n",
        "landsat_sequence = [0,2,5]"
      ]
    },
    {
      "cell_type": "code",
      "execution_count": 16,
      "metadata": {
        "id": "jTbc82sMjKHr"
      },
      "outputs": [],
      "source": [
        "#Define Region of interest (ROI) with a buffer zone of 20km\n",
        "roi = poi.buffer(20000) #meters\n",
        "\n"
      ]
    },
    {
      "cell_type": "code",
      "execution_count": 17,
      "metadata": {
        "id": "pkn6CIwmjKR9"
      },
      "outputs": [],
      "source": [
        "\n",
        "parameters = {\n",
        "                'min': 6000,\n",
        "                'max': 16000,\n",
        "                'dimensions': 800, #square size in pixels\n",
        "                'bands' : ['SR_B4', 'SR_B3', 'SR_B2'], #bands to display (r,g,b)\n",
        "                'region': roi\n",
        "              }"
      ]
    },
    {
      "cell_type": "code",
      "execution_count": 17,
      "metadata": {
        "id": "nBBDHRPcvTd0"
      },
      "outputs": [],
      "source": []
    },
    {
      "cell_type": "markdown",
      "metadata": {
        "id": "-dAgjx0zli64"
      },
      "source": [
        "To Zoom Selected Satellite imagery"
      ]
    },
    {
      "cell_type": "code",
      "execution_count": 18,
      "metadata": {
        "colab": {
          "base_uri": "https://localhost:8080/",
          "height": 1000
        },
        "id": "oHhYtW9DvTS0",
        "outputId": "30478119-502a-48f8-9a11-676fe56f48d6"
      },
      "outputs": [
        {
          "output_type": "stream",
          "name": "stdout",
          "text": [
            "Image # 0 2018-10-07 Cloud cover 0.05\n"
          ]
        },
        {
          "output_type": "display_data",
          "data": {
            "text/html": [
              "<img src=\"https://earthengine.googleapis.com/v1/projects/ee-ephraim/thumbnails/01244faaa0ebbbac5d6b94e5dd6513ea-38c05204e6432adc9b5d84e5891d7fe2:getPixels\"/>"
            ],
            "text/plain": [
              "<IPython.core.display.Image object>"
            ]
          },
          "metadata": {}
        },
        {
          "output_type": "stream",
          "name": "stdout",
          "text": [
            "Image # 2 2018-11-08 Cloud cover 11.83\n"
          ]
        },
        {
          "output_type": "display_data",
          "data": {
            "text/html": [
              "<img src=\"https://earthengine.googleapis.com/v1/projects/ee-ephraim/thumbnails/8c4413770216de2c1342fa3c65cd7ae4-6a075b6c6325103d43879091ecdcccef:getPixels\"/>"
            ],
            "text/plain": [
              "<IPython.core.display.Image object>"
            ]
          },
          "metadata": {}
        },
        {
          "output_type": "stream",
          "name": "stdout",
          "text": [
            "Image # 5 2018-12-26 Cloud cover 5.99\n"
          ]
        },
        {
          "output_type": "display_data",
          "data": {
            "text/html": [
              "<img src=\"https://earthengine.googleapis.com/v1/projects/ee-ephraim/thumbnails/0ee29671000f92a18b7e862dc73058a0-34ce12d791878c598d07839dd4055ec2:getPixels\"/>"
            ],
            "text/plain": [
              "<IPython.core.display.Image object>"
            ]
          },
          "metadata": {}
        }
      ],
      "source": [
        "for i in landsat_sequence:\n",
        "\n",
        "  date= ee.Image(landsat_list.get(i)).get('DATE_ACQUIRED').getInfo()\n",
        "\n",
        "  cloud= ee.Image(landsat_list.get(i)).get('CLOUD_COVER').getInfo()\n",
        "\n",
        "  print('Image #', i, date,'Cloud cover', cloud)\n",
        "\n",
        "  display(Image(url= ee.Image(landsat_list.get(i)).getThumbUrl(parameters)))"
      ]
    },
    {
      "cell_type": "code",
      "execution_count": 19,
      "metadata": {
        "id": "ZNH1mV5IvTg8"
      },
      "outputs": [],
      "source": [
        "#NDI palette: red is low, green is high vegetation\n",
        "\n",
        "palette=['red', 'yellow', 'green']\n",
        "\n",
        "ndvi_parameters ={  'min': 0,\n",
        "\t\t                'max': 0.4,\n",
        "\t\t                'dimensions': 512,\n",
        "\t\t                'palette': palette,\n",
        "\t\t                'region': roi}"
      ]
    },
    {
      "cell_type": "code",
      "execution_count": 20,
      "metadata": {
        "id": "GEjFuVXpvTlC",
        "colab": {
          "base_uri": "https://localhost:8080/",
          "height": 1000
        },
        "outputId": "92539c4d-7d73-4b14-8750-4fe6a5681160"
      },
      "outputs": [
        {
          "output_type": "stream",
          "name": "stdout",
          "text": [
            "Image # 0 2018-10-07 Cloud cover 0.05\n"
          ]
        },
        {
          "output_type": "display_data",
          "data": {
            "text/html": [
              "<img src=\"https://earthengine.googleapis.com/v1/projects/ee-ephraim/thumbnails/8d30147bb0ed6a486c576e83f590c4da-3e166fd6ee340070a58cf3e0a1e73cc6:getPixels\"/>"
            ],
            "text/plain": [
              "<IPython.core.display.Image object>"
            ]
          },
          "metadata": {}
        },
        {
          "output_type": "stream",
          "name": "stdout",
          "text": [
            "Image # 2 2018-11-08 Cloud cover 11.83\n"
          ]
        },
        {
          "output_type": "display_data",
          "data": {
            "text/html": [
              "<img src=\"https://earthengine.googleapis.com/v1/projects/ee-ephraim/thumbnails/21b9df2647b7160b147f0461bd6a18d9-fd18fc8f4a9fc2679a6c80b991fcf43b:getPixels\"/>"
            ],
            "text/plain": [
              "<IPython.core.display.Image object>"
            ]
          },
          "metadata": {}
        },
        {
          "output_type": "stream",
          "name": "stdout",
          "text": [
            "Image # 5 2018-12-26 Cloud cover 5.99\n"
          ]
        },
        {
          "output_type": "display_data",
          "data": {
            "text/html": [
              "<img src=\"https://earthengine.googleapis.com/v1/projects/ee-ephraim/thumbnails/a1e6cd306b58e779191e81eff8cd2dd9-55c2a298c8f020e211f75a6bf0398fdc:getPixels\"/>"
            ],
            "text/plain": [
              "<IPython.core.display.Image object>"
            ]
          },
          "metadata": {}
        }
      ],
      "source": [
        "for i in landsat_sequence:\n",
        "\n",
        "  date= ee.Image(landsat_list.get(i)).get('DATE_ACQUIRED').getInfo()\n",
        "\n",
        "  cloud= ee.Image(landsat_list.get(i)).get('CLOUD_COVER').getInfo()\n",
        "\n",
        "  print('Image #', i, date,'Cloud cover', cloud)\n",
        "\n",
        "  display(Image(url= ee.Image(landsat_list.get(i)).normalizedDifference(['SR_B5', 'SR_B4']).getThumbUrl(ndvi_parameters)))"
      ]
    },
    {
      "cell_type": "code",
      "execution_count": 21,
      "metadata": {
        "id": "kXRzBmMfvTsU"
      },
      "outputs": [],
      "source": [
        "ndwi_parameters = {\n",
        "    'min': -1,\n",
        "    'max': 1,\n",
        "    'palette': ['0000FF', 'FFFFFF'],\n",
        "    'region': roi\n",
        "}"
      ]
    },
    {
      "cell_type": "code",
      "execution_count": 22,
      "metadata": {
        "id": "4BJmmj15vT1v",
        "colab": {
          "base_uri": "https://localhost:8080/",
          "height": 1000
        },
        "outputId": "0bff8188-fecf-4c7d-a342-2091a3ad67a9"
      },
      "outputs": [
        {
          "output_type": "stream",
          "name": "stdout",
          "text": [
            "Image # 0 2018-10-07 Cloud cover 0.05\n"
          ]
        },
        {
          "output_type": "display_data",
          "data": {
            "text/html": [
              "<img src=\"https://earthengine.googleapis.com/v1/projects/ee-ephraim/thumbnails/4f1b692ec11c43285af9aff94124de92-9762cf0e70b8352c8b9361c51bd7b29b:getPixels\"/>"
            ],
            "text/plain": [
              "<IPython.core.display.Image object>"
            ]
          },
          "metadata": {}
        },
        {
          "output_type": "stream",
          "name": "stdout",
          "text": [
            "Image # 2 2018-11-08 Cloud cover 11.83\n"
          ]
        },
        {
          "output_type": "display_data",
          "data": {
            "text/html": [
              "<img src=\"https://earthengine.googleapis.com/v1/projects/ee-ephraim/thumbnails/e88e3cc290ba43995f2332c0ee3913ce-2fa5fd6b262ca6dd3f3a279486c40aa5:getPixels\"/>"
            ],
            "text/plain": [
              "<IPython.core.display.Image object>"
            ]
          },
          "metadata": {}
        },
        {
          "output_type": "stream",
          "name": "stdout",
          "text": [
            "Image # 5 2018-12-26 Cloud cover 5.99\n"
          ]
        },
        {
          "output_type": "display_data",
          "data": {
            "text/html": [
              "<img src=\"https://earthengine.googleapis.com/v1/projects/ee-ephraim/thumbnails/9b8dda1434c23f5256aee64c8355e38e-2dccb8abfcd196bfd3385f2e6e3473d8:getPixels\"/>"
            ],
            "text/plain": [
              "<IPython.core.display.Image object>"
            ]
          },
          "metadata": {}
        }
      ],
      "source": [
        "for i in landsat_sequence:\n",
        "    # Get date and cloud cover information\n",
        "    date = ee.Image(landsat_list.get(i)).get('DATE_ACQUIRED').getInfo()\n",
        "    cloud = ee.Image(landsat_list.get(i)).get('CLOUD_COVER').getInfo()\n",
        "\n",
        "    print('Image #', i, date, 'Cloud cover', cloud)\n",
        "\n",
        "    # Calculate NDWI and display\n",
        "    ndwi_image = ee.Image(landsat_list.get(i)).normalizedDifference(['SR_B3', 'SR_B5'])\n",
        "    display(Image(url=ndwi_image.getThumbURL(ndwi_parameters)))"
      ]
    },
    {
      "cell_type": "code",
      "execution_count": 22,
      "metadata": {
        "id": "s5IQbNgLvTyV"
      },
      "outputs": [],
      "source": []
    },
    {
      "cell_type": "code",
      "execution_count": 22,
      "metadata": {
        "id": "IqYJ8MNOvT42"
      },
      "outputs": [],
      "source": []
    },
    {
      "cell_type": "code",
      "execution_count": 22,
      "metadata": {
        "id": "EUxy_n7JvT71"
      },
      "outputs": [],
      "source": []
    }
  ],
  "metadata": {
    "colab": {
      "provenance": [],
      "include_colab_link": true
    },
    "kernelspec": {
      "display_name": "Python 3",
      "name": "python3"
    },
    "language_info": {
      "name": "python"
    }
  },
  "nbformat": 4,
  "nbformat_minor": 0
}