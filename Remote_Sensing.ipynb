{
  "cells": [
    {
      "cell_type": "markdown",
      "metadata": {
        "id": "view-in-github",
        "colab_type": "text"
      },
      "source": [
        "<a href=\"https://colab.research.google.com/github/Atmatex/Python-Portfolio-Projects/blob/main/Remote_Sensing.ipynb\" target=\"_parent\"><img src=\"https://colab.research.google.com/assets/colab-badge.svg\" alt=\"Open In Colab\"/></a>"
      ]
    },
    {
      "cell_type": "code",
      "execution_count": 1,
      "metadata": {
        "id": "YaTVtrcF8Wec"
      },
      "outputs": [],
      "source": [
        "import pandas as pd\n",
        "import geopandas as gpd"
      ]
    },
    {
      "cell_type": "code",
      "execution_count": 2,
      "metadata": {
        "id": "GWcaRJFSWpVS"
      },
      "outputs": [],
      "source": [
        "import ee\n",
        "ee.Authenticate()\n",
        "ee.Initialize(project='ee-ephraim')\n"
      ]
    },
    {
      "cell_type": "code",
      "execution_count": null,
      "metadata": {
        "id": "llNNBNhr8RBB"
      },
      "outputs": [],
      "source": [
        "from IPython.display import Image"
      ]
    },
    {
      "cell_type": "code",
      "execution_count": null,
      "metadata": {
        "id": "0m0vxaAo8RVd"
      },
      "outputs": [],
      "source": [
        "lat = 39.44012\n",
        "lon = -121.833619\n",
        "\n",
        "poi = ee.Geometry.Point(lon, lat)\n",
        "\n",
        "start_date = '2018-10-01'\n",
        "\n",
        "end_date = '2019-01-31'"
      ]
    },
    {
      "cell_type": "code",
      "execution_count": null,
      "metadata": {
        "id": "zbSxLBR4kyRa"
      },
      "outputs": [],
      "source": [
        "landsat = ee.ImageCollection('LANDSAT/LC08/C02/T1_L2')\\\n",
        "            .filterBounds(poi)\\\n",
        "            .filterDate(start_date, end_date)"
      ]
    },
    {
      "cell_type": "code",
      "execution_count": null,
      "metadata": {
        "colab": {
          "base_uri": "https://localhost:8080/"
        },
        "id": "ogUhvcR2yp5z",
        "outputId": "dc422e6f-446d-44c2-8146-b8758c328ab8"
      },
      "outputs": [
        {
          "output_type": "stream",
          "name": "stdout",
          "text": [
            "Total number: 8\n"
          ]
        }
      ],
      "source": [
        "#How many images was gotten\n",
        "print('Total number:', landsat.size().getInfo())\n"
      ]
    },
    {
      "cell_type": "code",
      "execution_count": null,
      "metadata": {
        "colab": {
          "base_uri": "https://localhost:8080/"
        },
        "id": "-AXHo3gqyqNy",
        "outputId": "607acd37-95a6-4c71-ff62-b2e11aaaabb7"
      },
      "outputs": [
        {
          "output_type": "execute_result",
          "data": {
            "text/plain": [
              "{'type': 'Image',\n",
              " 'bands': [{'id': 'SR_B1',\n",
              "   'data_type': {'type': 'PixelType',\n",
              "    'precision': 'int',\n",
              "    'min': 0,\n",
              "    'max': 65535},\n",
              "   'dimensions': [7661, 7791],\n",
              "   'crs': 'EPSG:32610',\n",
              "   'crs_transform': [30, 0, 500385, 0, -30, 4423215]},\n",
              "  {'id': 'SR_B2',\n",
              "   'data_type': {'type': 'PixelType',\n",
              "    'precision': 'int',\n",
              "    'min': 0,\n",
              "    'max': 65535},\n",
              "   'dimensions': [7661, 7791],\n",
              "   'crs': 'EPSG:32610',\n",
              "   'crs_transform': [30, 0, 500385, 0, -30, 4423215]},\n",
              "  {'id': 'SR_B3',\n",
              "   'data_type': {'type': 'PixelType',\n",
              "    'precision': 'int',\n",
              "    'min': 0,\n",
              "    'max': 65535},\n",
              "   'dimensions': [7661, 7791],\n",
              "   'crs': 'EPSG:32610',\n",
              "   'crs_transform': [30, 0, 500385, 0, -30, 4423215]},\n",
              "  {'id': 'SR_B4',\n",
              "   'data_type': {'type': 'PixelType',\n",
              "    'precision': 'int',\n",
              "    'min': 0,\n",
              "    'max': 65535},\n",
              "   'dimensions': [7661, 7791],\n",
              "   'crs': 'EPSG:32610',\n",
              "   'crs_transform': [30, 0, 500385, 0, -30, 4423215]},\n",
              "  {'id': 'SR_B5',\n",
              "   'data_type': {'type': 'PixelType',\n",
              "    'precision': 'int',\n",
              "    'min': 0,\n",
              "    'max': 65535},\n",
              "   'dimensions': [7661, 7791],\n",
              "   'crs': 'EPSG:32610',\n",
              "   'crs_transform': [30, 0, 500385, 0, -30, 4423215]},\n",
              "  {'id': 'SR_B6',\n",
              "   'data_type': {'type': 'PixelType',\n",
              "    'precision': 'int',\n",
              "    'min': 0,\n",
              "    'max': 65535},\n",
              "   'dimensions': [7661, 7791],\n",
              "   'crs': 'EPSG:32610',\n",
              "   'crs_transform': [30, 0, 500385, 0, -30, 4423215]},\n",
              "  {'id': 'SR_B7',\n",
              "   'data_type': {'type': 'PixelType',\n",
              "    'precision': 'int',\n",
              "    'min': 0,\n",
              "    'max': 65535},\n",
              "   'dimensions': [7661, 7791],\n",
              "   'crs': 'EPSG:32610',\n",
              "   'crs_transform': [30, 0, 500385, 0, -30, 4423215]},\n",
              "  {'id': 'SR_QA_AEROSOL',\n",
              "   'data_type': {'type': 'PixelType',\n",
              "    'precision': 'int',\n",
              "    'min': 0,\n",
              "    'max': 255},\n",
              "   'dimensions': [7661, 7791],\n",
              "   'crs': 'EPSG:32610',\n",
              "   'crs_transform': [30, 0, 500385, 0, -30, 4423215]},\n",
              "  {'id': 'ST_B10',\n",
              "   'data_type': {'type': 'PixelType',\n",
              "    'precision': 'int',\n",
              "    'min': 0,\n",
              "    'max': 65535},\n",
              "   'dimensions': [7661, 7791],\n",
              "   'crs': 'EPSG:32610',\n",
              "   'crs_transform': [30, 0, 500385, 0, -30, 4423215]},\n",
              "  {'id': 'ST_ATRAN',\n",
              "   'data_type': {'type': 'PixelType',\n",
              "    'precision': 'int',\n",
              "    'min': -32768,\n",
              "    'max': 32767},\n",
              "   'dimensions': [7661, 7791],\n",
              "   'crs': 'EPSG:32610',\n",
              "   'crs_transform': [30, 0, 500385, 0, -30, 4423215]},\n",
              "  {'id': 'ST_CDIST',\n",
              "   'data_type': {'type': 'PixelType',\n",
              "    'precision': 'int',\n",
              "    'min': -32768,\n",
              "    'max': 32767},\n",
              "   'dimensions': [7661, 7791],\n",
              "   'crs': 'EPSG:32610',\n",
              "   'crs_transform': [30, 0, 500385, 0, -30, 4423215]},\n",
              "  {'id': 'ST_DRAD',\n",
              "   'data_type': {'type': 'PixelType',\n",
              "    'precision': 'int',\n",
              "    'min': -32768,\n",
              "    'max': 32767},\n",
              "   'dimensions': [7661, 7791],\n",
              "   'crs': 'EPSG:32610',\n",
              "   'crs_transform': [30, 0, 500385, 0, -30, 4423215]},\n",
              "  {'id': 'ST_EMIS',\n",
              "   'data_type': {'type': 'PixelType',\n",
              "    'precision': 'int',\n",
              "    'min': -32768,\n",
              "    'max': 32767},\n",
              "   'dimensions': [7661, 7791],\n",
              "   'crs': 'EPSG:32610',\n",
              "   'crs_transform': [30, 0, 500385, 0, -30, 4423215]},\n",
              "  {'id': 'ST_EMSD',\n",
              "   'data_type': {'type': 'PixelType',\n",
              "    'precision': 'int',\n",
              "    'min': -32768,\n",
              "    'max': 32767},\n",
              "   'dimensions': [7661, 7791],\n",
              "   'crs': 'EPSG:32610',\n",
              "   'crs_transform': [30, 0, 500385, 0, -30, 4423215]},\n",
              "  {'id': 'ST_QA',\n",
              "   'data_type': {'type': 'PixelType',\n",
              "    'precision': 'int',\n",
              "    'min': -32768,\n",
              "    'max': 32767},\n",
              "   'dimensions': [7661, 7791],\n",
              "   'crs': 'EPSG:32610',\n",
              "   'crs_transform': [30, 0, 500385, 0, -30, 4423215]},\n",
              "  {'id': 'ST_TRAD',\n",
              "   'data_type': {'type': 'PixelType',\n",
              "    'precision': 'int',\n",
              "    'min': -32768,\n",
              "    'max': 32767},\n",
              "   'dimensions': [7661, 7791],\n",
              "   'crs': 'EPSG:32610',\n",
              "   'crs_transform': [30, 0, 500385, 0, -30, 4423215]},\n",
              "  {'id': 'ST_URAD',\n",
              "   'data_type': {'type': 'PixelType',\n",
              "    'precision': 'int',\n",
              "    'min': -32768,\n",
              "    'max': 32767},\n",
              "   'dimensions': [7661, 7791],\n",
              "   'crs': 'EPSG:32610',\n",
              "   'crs_transform': [30, 0, 500385, 0, -30, 4423215]},\n",
              "  {'id': 'QA_PIXEL',\n",
              "   'data_type': {'type': 'PixelType',\n",
              "    'precision': 'int',\n",
              "    'min': 0,\n",
              "    'max': 65535},\n",
              "   'dimensions': [7661, 7791],\n",
              "   'crs': 'EPSG:32610',\n",
              "   'crs_transform': [30, 0, 500385, 0, -30, 4423215]},\n",
              "  {'id': 'QA_RADSAT',\n",
              "   'data_type': {'type': 'PixelType',\n",
              "    'precision': 'int',\n",
              "    'min': 0,\n",
              "    'max': 65535},\n",
              "   'dimensions': [7661, 7791],\n",
              "   'crs': 'EPSG:32610',\n",
              "   'crs_transform': [30, 0, 500385, 0, -30, 4423215]}],\n",
              " 'id': 'LANDSAT/LC08/C02/T1_L2/LC08_044033_20181007',\n",
              " 'version': 1629895720593702,\n",
              " 'properties': {'DATA_SOURCE_ELEVATION': 'GLS2000',\n",
              "  'WRS_TYPE': 2,\n",
              "  'REFLECTANCE_ADD_BAND_1': -0.2,\n",
              "  'REFLECTANCE_ADD_BAND_2': -0.2,\n",
              "  'DATUM': 'WGS84',\n",
              "  'REFLECTANCE_ADD_BAND_3': -0.2,\n",
              "  'REFLECTANCE_ADD_BAND_4': -0.2,\n",
              "  'REFLECTANCE_ADD_BAND_5': -0.2,\n",
              "  'REFLECTANCE_ADD_BAND_6': -0.2,\n",
              "  'REFLECTANCE_ADD_BAND_7': -0.2,\n",
              "  'system:footprint': {'type': 'LinearRing',\n",
              "   'coordinates': [[-120.96945987441705, 37.85396978622024],\n",
              "    [-120.91758272903665, 37.84360095586152],\n",
              "    [-120.91091374989027, 37.84230108097053],\n",
              "    [-120.91032102754652, 37.84319081260253],\n",
              "    [-120.90026375188283, 37.87485737375912],\n",
              "    [-120.88601930375758, 37.91975025888466],\n",
              "    [-120.87475935368046, 37.95523294042605],\n",
              "    [-120.76830993328551, 38.28982473972092],\n",
              "    [-120.60616669159636, 38.7956184110626],\n",
              "    [-120.46920219411804, 39.21870028030481],\n",
              "    [-120.35829507594683, 39.55929948514903],\n",
              "    [-120.358940626908, 39.55982942717467],\n",
              "    [-120.3773619745756, 39.563471697339374],\n",
              "    [-121.13362575572384, 39.70944332250483],\n",
              "    [-122.47094597878574, 39.95415252966201],\n",
              "    [-122.47146231484521, 39.953369391342086],\n",
              "    [-122.47255137997769, 39.95009912185038],\n",
              "    [-122.97579676306593, 38.235899800160965],\n",
              "    [-122.97515026884432, 38.23538966186662],\n",
              "    [-122.83153924692401, 38.209342252115945],\n",
              "    [-120.96945987441705, 37.85396978622024]]},\n",
              "  'REFLECTIVE_SAMPLES': 7661,\n",
              "  'GROUND_CONTROL_POINTS_VERSION': 5,\n",
              "  'SUN_AZIMUTH': 156.37136574,\n",
              "  'DATA_SOURCE_TIRS_STRAY_LIGHT_CORRECTION': 'TIRS',\n",
              "  'UTM_ZONE': 10,\n",
              "  'DATE_ACQUIRED': '2018-10-07',\n",
              "  'ELLIPSOID': 'WGS84',\n",
              "  'system:time_end': 1538937928212,\n",
              "  'DATA_SOURCE_PRESSURE': 'Calculated',\n",
              "  'LANDSAT_PRODUCT_ID': 'LC08_L2SP_044033_20181007_20200830_02_T1',\n",
              "  'STATION_ID': 'LGN',\n",
              "  'TEMPERATURE_ADD_BAND_ST_B10': 149,\n",
              "  'DATA_SOURCE_REANALYSIS': 'GEOS-5 FP-IT',\n",
              "  'REFLECTANCE_MULT_BAND_7': 2.75e-05,\n",
              "  'system:time_start': 1538937928212,\n",
              "  'REFLECTANCE_MULT_BAND_6': 2.75e-05,\n",
              "  'L1_PROCESSING_LEVEL': 'L1TP',\n",
              "  'PROCESSING_SOFTWARE_VERSION': 'LPGS_15.3.1c',\n",
              "  'L1_DATE_PRODUCT_GENERATED': '2020-08-30T22:04:06Z',\n",
              "  'ORIENTATION': 'NORTH_UP',\n",
              "  'REFLECTANCE_MULT_BAND_1': 2.75e-05,\n",
              "  'WRS_ROW': 33,\n",
              "  'REFLECTANCE_MULT_BAND_3': 2.75e-05,\n",
              "  'REFLECTANCE_MULT_BAND_2': 2.75e-05,\n",
              "  'TARGET_WRS_ROW': 33,\n",
              "  'REFLECTANCE_MULT_BAND_5': 2.75e-05,\n",
              "  'REFLECTANCE_MULT_BAND_4': 2.75e-05,\n",
              "  'THERMAL_LINES': 7791,\n",
              "  'TIRS_SSM_POSITION_STATUS': 'ESTIMATED',\n",
              "  'GRID_CELL_SIZE_THERMAL': 30,\n",
              "  'IMAGE_QUALITY_TIRS': 9,\n",
              "  'TRUNCATION_OLI': 'UPPER',\n",
              "  'NADIR_OFFNADIR': 'NADIR',\n",
              "  'CLOUD_COVER': 0.05,\n",
              "  'REQUEST_ID': 'L2',\n",
              "  'EARTH_SUN_DISTANCE': 0.9993983,\n",
              "  'GEOMETRIC_RMSE_VERIFY': 3.028,\n",
              "  'TIRS_SSM_MODEL': 'FINAL',\n",
              "  'COLLECTION_CATEGORY': 'T1',\n",
              "  'SCENE_CENTER_TIME': '18:45:28.2127380Z',\n",
              "  'GRID_CELL_SIZE_REFLECTIVE': 30,\n",
              "  'SUN_ELEVATION': 42.62885674,\n",
              "  'ALGORITHM_SOURCE_SURFACE_TEMPERATURE': 'st_1.3.0',\n",
              "  'TEMPERATURE_MAXIMUM_BAND_ST_B10': 372.999941,\n",
              "  'CLOUD_COVER_LAND': 0.05,\n",
              "  'GEOMETRIC_RMSE_MODEL': 5.915,\n",
              "  'ROLL_ANGLE': -0.001,\n",
              "  'COLLECTION_NUMBER': 2,\n",
              "  'DATE_PRODUCT_GENERATED': 1598825983000,\n",
              "  'L1_REQUEST_ID': 'L2',\n",
              "  'DATA_SOURCE_OZONE': 'MODIS',\n",
              "  'SATURATION_BAND_1': 'Y',\n",
              "  'DATA_SOURCE_WATER_VAPOR': 'MODIS',\n",
              "  'SATURATION_BAND_2': 'Y',\n",
              "  'SATURATION_BAND_3': 'Y',\n",
              "  'IMAGE_QUALITY_OLI': 9,\n",
              "  'SATURATION_BAND_4': 'Y',\n",
              "  'LANDSAT_SCENE_ID': 'LC80440332018280LGN00',\n",
              "  'SATURATION_BAND_5': 'Y',\n",
              "  'MAP_PROJECTION': 'UTM',\n",
              "  'SATURATION_BAND_6': 'Y',\n",
              "  'SENSOR_ID': 'OLI_TIRS',\n",
              "  'SATURATION_BAND_7': 'Y',\n",
              "  'SATURATION_BAND_8': 'N',\n",
              "  'WRS_PATH': 44,\n",
              "  'SATURATION_BAND_9': 'N',\n",
              "  'TARGET_WRS_PATH': 44,\n",
              "  'L1_PROCESSING_SOFTWARE_VERSION': 'LPGS_15.3.1c',\n",
              "  'TEMPERATURE_MULT_BAND_ST_B10': 0.00341802,\n",
              "  'L1_LANDSAT_PRODUCT_ID': 'LC08_L1TP_044033_20181007_20200830_02_T1',\n",
              "  'PROCESSING_LEVEL': 'L2SP',\n",
              "  'ALGORITHM_SOURCE_SURFACE_REFLECTANCE': 'LaSRC_1.5.0',\n",
              "  'GROUND_CONTROL_POINTS_MODEL': 1318,\n",
              "  'SPACECRAFT_ID': 'LANDSAT_8',\n",
              "  'TEMPERATURE_MINIMUM_BAND_ST_B10': 149.003418,\n",
              "  'GEOMETRIC_RMSE_MODEL_Y': 4.945,\n",
              "  'REFLECTIVE_LINES': 7791,\n",
              "  'GEOMETRIC_RMSE_MODEL_X': 3.246,\n",
              "  'THERMAL_SAMPLES': 7661,\n",
              "  'system:asset_size': 965138511,\n",
              "  'DATA_SOURCE_AIR_TEMPERATURE': 'MODIS',\n",
              "  'GROUND_CONTROL_POINTS_VERIFY': 416,\n",
              "  'system:index': 'LC08_044033_20181007'}}"
            ]
          },
          "metadata": {},
          "execution_count": 7
        }
      ],
      "source": [
        "#information about the first images in the collection\n",
        "\n",
        "landsat.first().getInfo()"
      ]
    },
    {
      "cell_type": "code",
      "execution_count": null,
      "metadata": {
        "colab": {
          "base_uri": "https://localhost:8080/"
        },
        "id": "8d2sEhD-yqRn",
        "outputId": "3d446108-fb06-403f-f46d-67ccecf4e1d3"
      },
      "outputs": [
        {
          "output_type": "execute_result",
          "data": {
            "text/plain": [
              "0.05"
            ]
          },
          "metadata": {},
          "execution_count": 8
        }
      ],
      "source": [
        "landsat.first().get('CLOUD_COVER').getInfo()"
      ]
    },
    {
      "cell_type": "code",
      "execution_count": null,
      "metadata": {
        "colab": {
          "base_uri": "https://localhost:8080/",
          "height": 35
        },
        "id": "Bpse57W7yqVy",
        "outputId": "a2f8304b-8410-4728-e3ac-0f7a96443528"
      },
      "outputs": [
        {
          "output_type": "execute_result",
          "data": {
            "text/plain": [
              "'2018-10-07'"
            ],
            "application/vnd.google.colaboratory.intrinsic+json": {
              "type": "string"
            }
          },
          "metadata": {},
          "execution_count": 9
        }
      ],
      "source": [
        "#when the first image was taken\n",
        "landsat.first().get('DATE_ACQUIRED').getInfo()"
      ]
    },
    {
      "cell_type": "code",
      "execution_count": null,
      "metadata": {
        "colab": {
          "base_uri": "https://localhost:8080/"
        },
        "id": "WTrzXj-GyqZi",
        "outputId": "04d77ef9-8bf3-4d0d-8524-885db3fe1ee0"
      },
      "outputs": [
        {
          "output_type": "execute_result",
          "data": {
            "text/plain": [
              "['SR_B1',\n",
              " 'SR_B2',\n",
              " 'SR_B3',\n",
              " 'SR_B4',\n",
              " 'SR_B5',\n",
              " 'SR_B6',\n",
              " 'SR_B7',\n",
              " 'SR_QA_AEROSOL',\n",
              " 'ST_B10',\n",
              " 'ST_ATRAN',\n",
              " 'ST_CDIST',\n",
              " 'ST_DRAD',\n",
              " 'ST_EMIS',\n",
              " 'ST_EMSD',\n",
              " 'ST_QA',\n",
              " 'ST_TRAD',\n",
              " 'ST_URAD',\n",
              " 'QA_PIXEL',\n",
              " 'QA_RADSAT']"
            ]
          },
          "metadata": {},
          "execution_count": 10
        }
      ],
      "source": [
        "#what bands was gotten\n",
        "landsat.first().bandNames().getInfo()"
      ]
    },
    {
      "cell_type": "code",
      "execution_count": null,
      "metadata": {
        "id": "JNJ6j-Cpyqct"
      },
      "outputs": [],
      "source": [
        "#put images in a list\n",
        "landsat_list =landsat.toList(landsat.size());"
      ]
    },
    {
      "cell_type": "code",
      "execution_count": null,
      "metadata": {
        "id": "ITrvBmhNyqho"
      },
      "outputs": [],
      "source": [
        "#setting parameters for the images\n",
        "\n",
        "parameters = {\n",
        "                'min': 7000,\n",
        "                'max': 16000,\n",
        "                'dimensions': 800, #square size in pixels\n",
        "                'bands' : ['SR_B4', 'SR_B3', 'SR_B2'] #bands to display (r,g,b)\n",
        "              }"
      ]
    },
    {
      "cell_type": "code",
      "execution_count": null,
      "metadata": {
        "colab": {
          "base_uri": "https://localhost:8080/",
          "height": 1000
        },
        "id": "LEMgxcrmgsT7",
        "outputId": "bd1547cb-8b0e-493f-8adb-ff95fcc000ba"
      },
      "outputs": [
        {
          "output_type": "stream",
          "name": "stdout",
          "text": [
            "Image # 0 [] CLOUD_COVER 0.05\n"
          ]
        },
        {
          "output_type": "display_data",
          "data": {
            "text/html": [
              "<img src=\"https://earthengine.googleapis.com/v1/projects/ee-ephraim/thumbnails/6f6bf3aa92a9a2d5b7181618afc92a39-7f491a2f7d09e7661f21b7fff9fb96ea:getPixels\"/>"
            ],
            "text/plain": [
              "<IPython.core.display.Image object>"
            ]
          },
          "metadata": {}
        },
        {
          "output_type": "stream",
          "name": "stdout",
          "text": [
            "Image # 1 [[0, '2018-10-07', 0.05]] CLOUD_COVER 73.04\n"
          ]
        },
        {
          "output_type": "display_data",
          "data": {
            "text/html": [
              "<img src=\"https://earthengine.googleapis.com/v1/projects/ee-ephraim/thumbnails/88e465be9321dd674ebd7bb64bf8d87f-16965f910c7dbf9176bcbb7f087ca9e6:getPixels\"/>"
            ],
            "text/plain": [
              "<IPython.core.display.Image object>"
            ]
          },
          "metadata": {}
        },
        {
          "output_type": "stream",
          "name": "stdout",
          "text": [
            "Image # 2 [[0, '2018-10-07', 0.05], [1, '2018-10-23', 73.04]] CLOUD_COVER 11.83\n"
          ]
        },
        {
          "output_type": "display_data",
          "data": {
            "text/html": [
              "<img src=\"https://earthengine.googleapis.com/v1/projects/ee-ephraim/thumbnails/d3d28e361b77b30ce0a1b2f53c8f6977-d156075b6b727e90d2b784928011a0b6:getPixels\"/>"
            ],
            "text/plain": [
              "<IPython.core.display.Image object>"
            ]
          },
          "metadata": {}
        },
        {
          "output_type": "stream",
          "name": "stdout",
          "text": [
            "Image # 3 [[0, '2018-10-07', 0.05], [1, '2018-10-23', 73.04], [2, '2018-11-08', 11.83]] CLOUD_COVER 67.16\n"
          ]
        },
        {
          "output_type": "display_data",
          "data": {
            "text/html": [
              "<img src=\"https://earthengine.googleapis.com/v1/projects/ee-ephraim/thumbnails/bfaa71d8a66d1132508172f5d454809a-7aeea5cbcddaf1fa60c60cb68875a00e:getPixels\"/>"
            ],
            "text/plain": [
              "<IPython.core.display.Image object>"
            ]
          },
          "metadata": {}
        },
        {
          "output_type": "stream",
          "name": "stdout",
          "text": [
            "Image # 4 [[0, '2018-10-07', 0.05], [1, '2018-10-23', 73.04], [2, '2018-11-08', 11.83], [3, '2018-11-24', 67.16]] CLOUD_COVER 56.09\n"
          ]
        },
        {
          "output_type": "display_data",
          "data": {
            "text/html": [
              "<img src=\"https://earthengine.googleapis.com/v1/projects/ee-ephraim/thumbnails/ac5d750307e4cd40810f4eeecb8e91d7-2e95211ad7ccdd5b8412ba6623916a5f:getPixels\"/>"
            ],
            "text/plain": [
              "<IPython.core.display.Image object>"
            ]
          },
          "metadata": {}
        },
        {
          "output_type": "stream",
          "name": "stdout",
          "text": [
            "Image # 5 [[0, '2018-10-07', 0.05], [1, '2018-10-23', 73.04], [2, '2018-11-08', 11.83], [3, '2018-11-24', 67.16], [4, '2018-12-10', 56.09]] CLOUD_COVER 5.99\n"
          ]
        },
        {
          "output_type": "display_data",
          "data": {
            "text/html": [
              "<img src=\"https://earthengine.googleapis.com/v1/projects/ee-ephraim/thumbnails/7164d70e78723f64b71019c6a19300cf-d6b05fce18948e6807600847055e45a6:getPixels\"/>"
            ],
            "text/plain": [
              "<IPython.core.display.Image object>"
            ]
          },
          "metadata": {}
        },
        {
          "output_type": "stream",
          "name": "stdout",
          "text": [
            "Image # 6 [[0, '2018-10-07', 0.05], [1, '2018-10-23', 73.04], [2, '2018-11-08', 11.83], [3, '2018-11-24', 67.16], [4, '2018-12-10', 56.09], [5, '2018-12-26', 5.99]] CLOUD_COVER 80.06\n"
          ]
        },
        {
          "output_type": "display_data",
          "data": {
            "text/html": [
              "<img src=\"https://earthengine.googleapis.com/v1/projects/ee-ephraim/thumbnails/3a652270928d9df76d062aea99431dcb-a37796fbb33039192e718020af9dba57:getPixels\"/>"
            ],
            "text/plain": [
              "<IPython.core.display.Image object>"
            ]
          },
          "metadata": {}
        },
        {
          "output_type": "stream",
          "name": "stdout",
          "text": [
            "Image # 7 [[0, '2018-10-07', 0.05], [1, '2018-10-23', 73.04], [2, '2018-11-08', 11.83], [3, '2018-11-24', 67.16], [4, '2018-12-10', 56.09], [5, '2018-12-26', 5.99], [6, '2019-01-11', 80.06]] CLOUD_COVER 5.21\n"
          ]
        },
        {
          "output_type": "display_data",
          "data": {
            "text/html": [
              "<img src=\"https://earthengine.googleapis.com/v1/projects/ee-ephraim/thumbnails/4453b2468c4c84a17f035d7c96ba895c-bbfd4d828632b7435b46e6011da82afc:getPixels\"/>"
            ],
            "text/plain": [
              "<IPython.core.display.Image object>"
            ]
          },
          "metadata": {}
        }
      ],
      "source": [
        "#create empty data container\n",
        "data =[]\n",
        "\n",
        "#loop through each image and display it\n",
        "for i in range (landsat.size().getInfo()):\n",
        "\n",
        "  #what was the imge taken\n",
        "  date =ee.Image(landsat_list.get(i)).get('DATE_ACQUIRED').getInfo()\n",
        "\n",
        "  #cloud cover\n",
        "  cloud =ee.Image(landsat_list.get(i)).get('CLOUD_COVER').getInfo()\n",
        "\n",
        "  #print image info\n",
        "  print('Image #', i, data, 'CLOUD_COVER', cloud)\n",
        "\n",
        "  #display image\n",
        "  display(Image(url =ee.Image(landsat_list.get(i)).getThumbUrl(parameters)))\n",
        "\n",
        "  #data to list\n",
        "  this_data=[i,date,cloud]\n",
        "\n",
        "  #append the data\n",
        "  data.append(this_data)\n",
        "\n",
        "#create panda dataframe\n",
        "df=pd.DataFrame(data, columns=['Image #', 'Date', 'Cloud Cover'])\n",
        "\n",
        "\n"
      ]
    },
    {
      "cell_type": "code",
      "execution_count": null,
      "metadata": {
        "colab": {
          "base_uri": "https://localhost:8080/",
          "height": 300
        },
        "id": "uEtE90nSjJV8",
        "outputId": "1c8f1b5a-8ecc-4011-b901-2797ba08c3ba"
      },
      "outputs": [
        {
          "output_type": "execute_result",
          "data": {
            "text/plain": [
              "   Image #        Date  Cloud Cover\n",
              "0        0  2018-10-07         0.05\n",
              "1        1  2018-10-23        73.04\n",
              "2        2  2018-11-08        11.83\n",
              "3        3  2018-11-24        67.16\n",
              "4        4  2018-12-10        56.09\n",
              "5        5  2018-12-26         5.99\n",
              "6        6  2019-01-11        80.06\n",
              "7        7  2019-01-27         5.21"
            ],
            "text/html": [
              "\n",
              "  <div id=\"df-d39ba2f1-f041-4a51-8821-32e47a79412a\" class=\"colab-df-container\">\n",
              "    <div>\n",
              "<style scoped>\n",
              "    .dataframe tbody tr th:only-of-type {\n",
              "        vertical-align: middle;\n",
              "    }\n",
              "\n",
              "    .dataframe tbody tr th {\n",
              "        vertical-align: top;\n",
              "    }\n",
              "\n",
              "    .dataframe thead th {\n",
              "        text-align: right;\n",
              "    }\n",
              "</style>\n",
              "<table border=\"1\" class=\"dataframe\">\n",
              "  <thead>\n",
              "    <tr style=\"text-align: right;\">\n",
              "      <th></th>\n",
              "      <th>Image #</th>\n",
              "      <th>Date</th>\n",
              "      <th>Cloud Cover</th>\n",
              "    </tr>\n",
              "  </thead>\n",
              "  <tbody>\n",
              "    <tr>\n",
              "      <th>0</th>\n",
              "      <td>0</td>\n",
              "      <td>2018-10-07</td>\n",
              "      <td>0.05</td>\n",
              "    </tr>\n",
              "    <tr>\n",
              "      <th>1</th>\n",
              "      <td>1</td>\n",
              "      <td>2018-10-23</td>\n",
              "      <td>73.04</td>\n",
              "    </tr>\n",
              "    <tr>\n",
              "      <th>2</th>\n",
              "      <td>2</td>\n",
              "      <td>2018-11-08</td>\n",
              "      <td>11.83</td>\n",
              "    </tr>\n",
              "    <tr>\n",
              "      <th>3</th>\n",
              "      <td>3</td>\n",
              "      <td>2018-11-24</td>\n",
              "      <td>67.16</td>\n",
              "    </tr>\n",
              "    <tr>\n",
              "      <th>4</th>\n",
              "      <td>4</td>\n",
              "      <td>2018-12-10</td>\n",
              "      <td>56.09</td>\n",
              "    </tr>\n",
              "    <tr>\n",
              "      <th>5</th>\n",
              "      <td>5</td>\n",
              "      <td>2018-12-26</td>\n",
              "      <td>5.99</td>\n",
              "    </tr>\n",
              "    <tr>\n",
              "      <th>6</th>\n",
              "      <td>6</td>\n",
              "      <td>2019-01-11</td>\n",
              "      <td>80.06</td>\n",
              "    </tr>\n",
              "    <tr>\n",
              "      <th>7</th>\n",
              "      <td>7</td>\n",
              "      <td>2019-01-27</td>\n",
              "      <td>5.21</td>\n",
              "    </tr>\n",
              "  </tbody>\n",
              "</table>\n",
              "</div>\n",
              "    <div class=\"colab-df-buttons\">\n",
              "\n",
              "  <div class=\"colab-df-container\">\n",
              "    <button class=\"colab-df-convert\" onclick=\"convertToInteractive('df-d39ba2f1-f041-4a51-8821-32e47a79412a')\"\n",
              "            title=\"Convert this dataframe to an interactive table.\"\n",
              "            style=\"display:none;\">\n",
              "\n",
              "  <svg xmlns=\"http://www.w3.org/2000/svg\" height=\"24px\" viewBox=\"0 -960 960 960\">\n",
              "    <path d=\"M120-120v-720h720v720H120Zm60-500h600v-160H180v160Zm220 220h160v-160H400v160Zm0 220h160v-160H400v160ZM180-400h160v-160H180v160Zm440 0h160v-160H620v160ZM180-180h160v-160H180v160Zm440 0h160v-160H620v160Z\"/>\n",
              "  </svg>\n",
              "    </button>\n",
              "\n",
              "  <style>\n",
              "    .colab-df-container {\n",
              "      display:flex;\n",
              "      gap: 12px;\n",
              "    }\n",
              "\n",
              "    .colab-df-convert {\n",
              "      background-color: #E8F0FE;\n",
              "      border: none;\n",
              "      border-radius: 50%;\n",
              "      cursor: pointer;\n",
              "      display: none;\n",
              "      fill: #1967D2;\n",
              "      height: 32px;\n",
              "      padding: 0 0 0 0;\n",
              "      width: 32px;\n",
              "    }\n",
              "\n",
              "    .colab-df-convert:hover {\n",
              "      background-color: #E2EBFA;\n",
              "      box-shadow: 0px 1px 2px rgba(60, 64, 67, 0.3), 0px 1px 3px 1px rgba(60, 64, 67, 0.15);\n",
              "      fill: #174EA6;\n",
              "    }\n",
              "\n",
              "    .colab-df-buttons div {\n",
              "      margin-bottom: 4px;\n",
              "    }\n",
              "\n",
              "    [theme=dark] .colab-df-convert {\n",
              "      background-color: #3B4455;\n",
              "      fill: #D2E3FC;\n",
              "    }\n",
              "\n",
              "    [theme=dark] .colab-df-convert:hover {\n",
              "      background-color: #434B5C;\n",
              "      box-shadow: 0px 1px 3px 1px rgba(0, 0, 0, 0.15);\n",
              "      filter: drop-shadow(0px 1px 2px rgba(0, 0, 0, 0.3));\n",
              "      fill: #FFFFFF;\n",
              "    }\n",
              "  </style>\n",
              "\n",
              "    <script>\n",
              "      const buttonEl =\n",
              "        document.querySelector('#df-d39ba2f1-f041-4a51-8821-32e47a79412a button.colab-df-convert');\n",
              "      buttonEl.style.display =\n",
              "        google.colab.kernel.accessAllowed ? 'block' : 'none';\n",
              "\n",
              "      async function convertToInteractive(key) {\n",
              "        const element = document.querySelector('#df-d39ba2f1-f041-4a51-8821-32e47a79412a');\n",
              "        const dataTable =\n",
              "          await google.colab.kernel.invokeFunction('convertToInteractive',\n",
              "                                                    [key], {});\n",
              "        if (!dataTable) return;\n",
              "\n",
              "        const docLinkHtml = 'Like what you see? Visit the ' +\n",
              "          '<a target=\"_blank\" href=https://colab.research.google.com/notebooks/data_table.ipynb>data table notebook</a>'\n",
              "          + ' to learn more about interactive tables.';\n",
              "        element.innerHTML = '';\n",
              "        dataTable['output_type'] = 'display_data';\n",
              "        await google.colab.output.renderOutput(dataTable, element);\n",
              "        const docLink = document.createElement('div');\n",
              "        docLink.innerHTML = docLinkHtml;\n",
              "        element.appendChild(docLink);\n",
              "      }\n",
              "    </script>\n",
              "  </div>\n",
              "\n",
              "\n",
              "<div id=\"df-9bbcc596-8a8a-4efe-adfe-f9d1acf2b272\">\n",
              "  <button class=\"colab-df-quickchart\" onclick=\"quickchart('df-9bbcc596-8a8a-4efe-adfe-f9d1acf2b272')\"\n",
              "            title=\"Suggest charts\"\n",
              "            style=\"display:none;\">\n",
              "\n",
              "<svg xmlns=\"http://www.w3.org/2000/svg\" height=\"24px\"viewBox=\"0 0 24 24\"\n",
              "     width=\"24px\">\n",
              "    <g>\n",
              "        <path d=\"M19 3H5c-1.1 0-2 .9-2 2v14c0 1.1.9 2 2 2h14c1.1 0 2-.9 2-2V5c0-1.1-.9-2-2-2zM9 17H7v-7h2v7zm4 0h-2V7h2v10zm4 0h-2v-4h2v4z\"/>\n",
              "    </g>\n",
              "</svg>\n",
              "  </button>\n",
              "\n",
              "<style>\n",
              "  .colab-df-quickchart {\n",
              "      --bg-color: #E8F0FE;\n",
              "      --fill-color: #1967D2;\n",
              "      --hover-bg-color: #E2EBFA;\n",
              "      --hover-fill-color: #174EA6;\n",
              "      --disabled-fill-color: #AAA;\n",
              "      --disabled-bg-color: #DDD;\n",
              "  }\n",
              "\n",
              "  [theme=dark] .colab-df-quickchart {\n",
              "      --bg-color: #3B4455;\n",
              "      --fill-color: #D2E3FC;\n",
              "      --hover-bg-color: #434B5C;\n",
              "      --hover-fill-color: #FFFFFF;\n",
              "      --disabled-bg-color: #3B4455;\n",
              "      --disabled-fill-color: #666;\n",
              "  }\n",
              "\n",
              "  .colab-df-quickchart {\n",
              "    background-color: var(--bg-color);\n",
              "    border: none;\n",
              "    border-radius: 50%;\n",
              "    cursor: pointer;\n",
              "    display: none;\n",
              "    fill: var(--fill-color);\n",
              "    height: 32px;\n",
              "    padding: 0;\n",
              "    width: 32px;\n",
              "  }\n",
              "\n",
              "  .colab-df-quickchart:hover {\n",
              "    background-color: var(--hover-bg-color);\n",
              "    box-shadow: 0 1px 2px rgba(60, 64, 67, 0.3), 0 1px 3px 1px rgba(60, 64, 67, 0.15);\n",
              "    fill: var(--button-hover-fill-color);\n",
              "  }\n",
              "\n",
              "  .colab-df-quickchart-complete:disabled,\n",
              "  .colab-df-quickchart-complete:disabled:hover {\n",
              "    background-color: var(--disabled-bg-color);\n",
              "    fill: var(--disabled-fill-color);\n",
              "    box-shadow: none;\n",
              "  }\n",
              "\n",
              "  .colab-df-spinner {\n",
              "    border: 2px solid var(--fill-color);\n",
              "    border-color: transparent;\n",
              "    border-bottom-color: var(--fill-color);\n",
              "    animation:\n",
              "      spin 1s steps(1) infinite;\n",
              "  }\n",
              "\n",
              "  @keyframes spin {\n",
              "    0% {\n",
              "      border-color: transparent;\n",
              "      border-bottom-color: var(--fill-color);\n",
              "      border-left-color: var(--fill-color);\n",
              "    }\n",
              "    20% {\n",
              "      border-color: transparent;\n",
              "      border-left-color: var(--fill-color);\n",
              "      border-top-color: var(--fill-color);\n",
              "    }\n",
              "    30% {\n",
              "      border-color: transparent;\n",
              "      border-left-color: var(--fill-color);\n",
              "      border-top-color: var(--fill-color);\n",
              "      border-right-color: var(--fill-color);\n",
              "    }\n",
              "    40% {\n",
              "      border-color: transparent;\n",
              "      border-right-color: var(--fill-color);\n",
              "      border-top-color: var(--fill-color);\n",
              "    }\n",
              "    60% {\n",
              "      border-color: transparent;\n",
              "      border-right-color: var(--fill-color);\n",
              "    }\n",
              "    80% {\n",
              "      border-color: transparent;\n",
              "      border-right-color: var(--fill-color);\n",
              "      border-bottom-color: var(--fill-color);\n",
              "    }\n",
              "    90% {\n",
              "      border-color: transparent;\n",
              "      border-bottom-color: var(--fill-color);\n",
              "    }\n",
              "  }\n",
              "</style>\n",
              "\n",
              "  <script>\n",
              "    async function quickchart(key) {\n",
              "      const quickchartButtonEl =\n",
              "        document.querySelector('#' + key + ' button');\n",
              "      quickchartButtonEl.disabled = true;  // To prevent multiple clicks.\n",
              "      quickchartButtonEl.classList.add('colab-df-spinner');\n",
              "      try {\n",
              "        const charts = await google.colab.kernel.invokeFunction(\n",
              "            'suggestCharts', [key], {});\n",
              "      } catch (error) {\n",
              "        console.error('Error during call to suggestCharts:', error);\n",
              "      }\n",
              "      quickchartButtonEl.classList.remove('colab-df-spinner');\n",
              "      quickchartButtonEl.classList.add('colab-df-quickchart-complete');\n",
              "    }\n",
              "    (() => {\n",
              "      let quickchartButtonEl =\n",
              "        document.querySelector('#df-9bbcc596-8a8a-4efe-adfe-f9d1acf2b272 button');\n",
              "      quickchartButtonEl.style.display =\n",
              "        google.colab.kernel.accessAllowed ? 'block' : 'none';\n",
              "    })();\n",
              "  </script>\n",
              "</div>\n",
              "\n",
              "  <div id=\"id_509f99dd-82f9-4fc6-b9a1-678ffa3273f4\">\n",
              "    <style>\n",
              "      .colab-df-generate {\n",
              "        background-color: #E8F0FE;\n",
              "        border: none;\n",
              "        border-radius: 50%;\n",
              "        cursor: pointer;\n",
              "        display: none;\n",
              "        fill: #1967D2;\n",
              "        height: 32px;\n",
              "        padding: 0 0 0 0;\n",
              "        width: 32px;\n",
              "      }\n",
              "\n",
              "      .colab-df-generate:hover {\n",
              "        background-color: #E2EBFA;\n",
              "        box-shadow: 0px 1px 2px rgba(60, 64, 67, 0.3), 0px 1px 3px 1px rgba(60, 64, 67, 0.15);\n",
              "        fill: #174EA6;\n",
              "      }\n",
              "\n",
              "      [theme=dark] .colab-df-generate {\n",
              "        background-color: #3B4455;\n",
              "        fill: #D2E3FC;\n",
              "      }\n",
              "\n",
              "      [theme=dark] .colab-df-generate:hover {\n",
              "        background-color: #434B5C;\n",
              "        box-shadow: 0px 1px 3px 1px rgba(0, 0, 0, 0.15);\n",
              "        filter: drop-shadow(0px 1px 2px rgba(0, 0, 0, 0.3));\n",
              "        fill: #FFFFFF;\n",
              "      }\n",
              "    </style>\n",
              "    <button class=\"colab-df-generate\" onclick=\"generateWithVariable('df')\"\n",
              "            title=\"Generate code using this dataframe.\"\n",
              "            style=\"display:none;\">\n",
              "\n",
              "  <svg xmlns=\"http://www.w3.org/2000/svg\" height=\"24px\"viewBox=\"0 0 24 24\"\n",
              "       width=\"24px\">\n",
              "    <path d=\"M7,19H8.4L18.45,9,17,7.55,7,17.6ZM5,21V16.75L18.45,3.32a2,2,0,0,1,2.83,0l1.4,1.43a1.91,1.91,0,0,1,.58,1.4,1.91,1.91,0,0,1-.58,1.4L9.25,21ZM18.45,9,17,7.55Zm-12,3A5.31,5.31,0,0,0,4.9,8.1,5.31,5.31,0,0,0,1,6.5,5.31,5.31,0,0,0,4.9,4.9,5.31,5.31,0,0,0,6.5,1,5.31,5.31,0,0,0,8.1,4.9,5.31,5.31,0,0,0,12,6.5,5.46,5.46,0,0,0,6.5,12Z\"/>\n",
              "  </svg>\n",
              "    </button>\n",
              "    <script>\n",
              "      (() => {\n",
              "      const buttonEl =\n",
              "        document.querySelector('#id_509f99dd-82f9-4fc6-b9a1-678ffa3273f4 button.colab-df-generate');\n",
              "      buttonEl.style.display =\n",
              "        google.colab.kernel.accessAllowed ? 'block' : 'none';\n",
              "\n",
              "      buttonEl.onclick = () => {\n",
              "        google.colab.notebook.generateWithVariable('df');\n",
              "      }\n",
              "      })();\n",
              "    </script>\n",
              "  </div>\n",
              "\n",
              "    </div>\n",
              "  </div>\n"
            ]
          },
          "metadata": {},
          "execution_count": 14
        }
      ],
      "source": [
        "df"
      ]
    },
    {
      "cell_type": "code",
      "execution_count": null,
      "metadata": {
        "id": "TGnDk65fjKEQ"
      },
      "outputs": [],
      "source": [
        "# Create list of imaeges before, during, after\n",
        "\n",
        "landsat_sequence = [0,2,5]"
      ]
    },
    {
      "cell_type": "code",
      "execution_count": null,
      "metadata": {
        "id": "jTbc82sMjKHr"
      },
      "outputs": [],
      "source": [
        "#Define Region of interest (ROI) with a buffer zone of 20km\n",
        "roi = poi.buffer(20000) #meters\n",
        "\n"
      ]
    },
    {
      "cell_type": "code",
      "execution_count": null,
      "metadata": {
        "id": "pkn6CIwmjKR9"
      },
      "outputs": [],
      "source": [
        "\n",
        "parameters = {\n",
        "                'min': 6000,\n",
        "                'max': 16000,\n",
        "                'dimensions': 800, #square size in pixels\n",
        "                'bands' : ['SR_B4', 'SR_B3', 'SR_B2'], #bands to display (r,g,b)\n",
        "                'region': roi\n",
        "              }"
      ]
    },
    {
      "cell_type": "code",
      "execution_count": null,
      "metadata": {
        "id": "nBBDHRPcvTd0"
      },
      "outputs": [],
      "source": []
    },
    {
      "cell_type": "markdown",
      "metadata": {
        "id": "-dAgjx0zli64"
      },
      "source": [
        "To Zoom Selected Satellite imagery"
      ]
    },
    {
      "cell_type": "code",
      "execution_count": null,
      "metadata": {
        "colab": {
          "base_uri": "https://localhost:8080/",
          "height": 1000
        },
        "id": "oHhYtW9DvTS0",
        "outputId": "bce7f08c-bebf-406b-93bf-c99bb9e879fb"
      },
      "outputs": [
        {
          "output_type": "stream",
          "name": "stdout",
          "text": [
            "Image # 0 2018-10-07 Cloud cover 0.05\n"
          ]
        },
        {
          "output_type": "display_data",
          "data": {
            "text/html": [
              "<img src=\"https://earthengine.googleapis.com/v1/projects/ee-ephraim/thumbnails/a4dc5d44367f38acb5467c1b13f55a36-a6c3a5d52e9437bb212d6793d2dfba65:getPixels\"/>"
            ],
            "text/plain": [
              "<IPython.core.display.Image object>"
            ]
          },
          "metadata": {}
        },
        {
          "output_type": "stream",
          "name": "stdout",
          "text": [
            "Image # 2 2018-11-08 Cloud cover 11.83\n"
          ]
        },
        {
          "output_type": "display_data",
          "data": {
            "text/html": [
              "<img src=\"https://earthengine.googleapis.com/v1/projects/ee-ephraim/thumbnails/b2b3e390965c3da28aedd1bd0f40d2f5-b86156136156afe3d60681695460fd4a:getPixels\"/>"
            ],
            "text/plain": [
              "<IPython.core.display.Image object>"
            ]
          },
          "metadata": {}
        },
        {
          "output_type": "stream",
          "name": "stdout",
          "text": [
            "Image # 5 2018-12-26 Cloud cover 5.99\n"
          ]
        },
        {
          "output_type": "display_data",
          "data": {
            "text/html": [
              "<img src=\"https://earthengine.googleapis.com/v1/projects/ee-ephraim/thumbnails/6f2a4469b740e823ca09cae7987a6924-f1415ab9ec18d4bf58140851eb0f548e:getPixels\"/>"
            ],
            "text/plain": [
              "<IPython.core.display.Image object>"
            ]
          },
          "metadata": {}
        }
      ],
      "source": [
        "for i in landsat_sequence:\n",
        "\n",
        "  date= ee.Image(landsat_list.get(i)).get('DATE_ACQUIRED').getInfo()\n",
        "\n",
        "  cloud= ee.Image(landsat_list.get(i)).get('CLOUD_COVER').getInfo()\n",
        "\n",
        "  print('Image #', i, date,'Cloud cover', cloud)\n",
        "\n",
        "  display(Image(url= ee.Image(landsat_list.get(i)).getThumbUrl(parameters)))"
      ]
    },
    {
      "cell_type": "code",
      "execution_count": null,
      "metadata": {
        "id": "ZNH1mV5IvTg8"
      },
      "outputs": [],
      "source": [
        "#NDI palette: red is low, green is high vegetation\n",
        "\n",
        "palette=['red', 'yellow', 'green']\n",
        "\n",
        "ndvi_parameters ={  'min': 0,\n",
        "\t\t                'max': 0.4,\n",
        "\t\t                'dimensions': 512,\n",
        "\t\t                'palette': palette,\n",
        "\t\t                'region': roi}"
      ]
    },
    {
      "cell_type": "code",
      "execution_count": null,
      "metadata": {
        "id": "GEjFuVXpvTlC",
        "colab": {
          "base_uri": "https://localhost:8080/",
          "height": 1000
        },
        "outputId": "84da9a33-fc20-40ea-a5d6-2b1b4155150a"
      },
      "outputs": [
        {
          "output_type": "stream",
          "name": "stdout",
          "text": [
            "Image # 0 2018-10-07 Cloud cover 0.05\n"
          ]
        },
        {
          "output_type": "display_data",
          "data": {
            "text/html": [
              "<img src=\"https://earthengine.googleapis.com/v1/projects/ee-ephraim/thumbnails/5cad0ae3dce9a57c505bca0df610bee5-08690947619aa8c9f9862ebbba1c866a:getPixels\"/>"
            ],
            "text/plain": [
              "<IPython.core.display.Image object>"
            ]
          },
          "metadata": {}
        },
        {
          "output_type": "stream",
          "name": "stdout",
          "text": [
            "Image # 2 2018-11-08 Cloud cover 11.83\n"
          ]
        },
        {
          "output_type": "display_data",
          "data": {
            "text/html": [
              "<img src=\"https://earthengine.googleapis.com/v1/projects/ee-ephraim/thumbnails/19af0632dfaa2e841514be27aac1cd58-75d253e347a9c327f404e5b0404e0cd1:getPixels\"/>"
            ],
            "text/plain": [
              "<IPython.core.display.Image object>"
            ]
          },
          "metadata": {}
        },
        {
          "output_type": "stream",
          "name": "stdout",
          "text": [
            "Image # 5 2018-12-26 Cloud cover 5.99\n"
          ]
        },
        {
          "output_type": "display_data",
          "data": {
            "text/html": [
              "<img src=\"https://earthengine.googleapis.com/v1/projects/ee-ephraim/thumbnails/138166793b347b1f678453b89fe8daf2-b5ffc4c60714eaab983c2e9bcabfca6f:getPixels\"/>"
            ],
            "text/plain": [
              "<IPython.core.display.Image object>"
            ]
          },
          "metadata": {}
        }
      ],
      "source": [
        "for i in landsat_sequence:\n",
        "\n",
        "  date= ee.Image(landsat_list.get(i)).get('DATE_ACQUIRED').getInfo()\n",
        "\n",
        "  cloud= ee.Image(landsat_list.get(i)).get('CLOUD_COVER').getInfo()\n",
        "\n",
        "  print('Image #', i, date,'Cloud cover', cloud)\n",
        "\n",
        "  display(Image(url= ee.Image(landsat_list.get(i)).normalizedDifference(['SR_B5', 'SR_B4']).getThumbUrl(ndvi_parameters)))"
      ]
    },
    {
      "cell_type": "code",
      "execution_count": null,
      "metadata": {
        "id": "kXRzBmMfvTsU"
      },
      "outputs": [],
      "source": [
        "ndwi_parameters = {\n",
        "    'min': -1,\n",
        "    'max': 1,\n",
        "    'palette': ['0000FF', 'FFFFFF'],\n",
        "    'region': roi\n",
        "}"
      ]
    },
    {
      "cell_type": "code",
      "execution_count": null,
      "metadata": {
        "id": "4BJmmj15vT1v",
        "colab": {
          "base_uri": "https://localhost:8080/",
          "height": 1000
        },
        "outputId": "181eac45-40a0-4c6e-8087-3a1969a8f7e4"
      },
      "outputs": [
        {
          "output_type": "stream",
          "name": "stdout",
          "text": [
            "Image # 0 2018-10-07 Cloud cover 0.05\n"
          ]
        },
        {
          "output_type": "display_data",
          "data": {
            "text/html": [
              "<img src=\"https://earthengine.googleapis.com/v1/projects/ee-ephraim/thumbnails/c7636406e4a027357cf8b68f5a5765fb-e1729c5c838a74ad3a04a1b46c337043:getPixels\"/>"
            ],
            "text/plain": [
              "<IPython.core.display.Image object>"
            ]
          },
          "metadata": {}
        },
        {
          "output_type": "stream",
          "name": "stdout",
          "text": [
            "Image # 2 2018-11-08 Cloud cover 11.83\n"
          ]
        },
        {
          "output_type": "display_data",
          "data": {
            "text/html": [
              "<img src=\"https://earthengine.googleapis.com/v1/projects/ee-ephraim/thumbnails/6bd06c1492a2d0110ab475b035d9f9d2-7e754add2c91a01a14e05b5e3ba5d627:getPixels\"/>"
            ],
            "text/plain": [
              "<IPython.core.display.Image object>"
            ]
          },
          "metadata": {}
        },
        {
          "output_type": "stream",
          "name": "stdout",
          "text": [
            "Image # 5 2018-12-26 Cloud cover 5.99\n"
          ]
        },
        {
          "output_type": "display_data",
          "data": {
            "text/html": [
              "<img src=\"https://earthengine.googleapis.com/v1/projects/ee-ephraim/thumbnails/4f83b1b08aa4d8f40f4c7517a64d0c17-4aad1ee706bb393b50c320ff475b655a:getPixels\"/>"
            ],
            "text/plain": [
              "<IPython.core.display.Image object>"
            ]
          },
          "metadata": {}
        }
      ],
      "source": [
        "for i in landsat_sequence:\n",
        "    # Get date and cloud cover information\n",
        "    date = ee.Image(landsat_list.get(i)).get('DATE_ACQUIRED').getInfo()\n",
        "    cloud = ee.Image(landsat_list.get(i)).get('CLOUD_COVER').getInfo()\n",
        "\n",
        "    print('Image #', i, date, 'Cloud cover', cloud)\n",
        "\n",
        "    # Calculate NDWI and display\n",
        "    ndwi_image = ee.Image(landsat_list.get(i)).normalizedDifference(['SR_B3', 'SR_B5'])\n",
        "    display(Image(url=ndwi_image.getThumbURL(ndwi_parameters)))"
      ]
    },
    {
      "cell_type": "code",
      "execution_count": null,
      "metadata": {
        "id": "s5IQbNgLvTyV"
      },
      "outputs": [],
      "source": []
    },
    {
      "cell_type": "code",
      "execution_count": null,
      "metadata": {
        "id": "IqYJ8MNOvT42"
      },
      "outputs": [],
      "source": []
    },
    {
      "cell_type": "code",
      "execution_count": null,
      "metadata": {
        "id": "EUxy_n7JvT71"
      },
      "outputs": [],
      "source": []
    }
  ],
  "metadata": {
    "colab": {
      "provenance": [],
      "include_colab_link": true
    },
    "kernelspec": {
      "display_name": "Python 3",
      "name": "python3"
    },
    "language_info": {
      "name": "python"
    }
  },
  "nbformat": 4,
  "nbformat_minor": 0
}